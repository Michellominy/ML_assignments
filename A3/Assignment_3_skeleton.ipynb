{
  "cells": [
    {
      "cell_type": "markdown",
      "metadata": {
        "id": "0D5RrI2k4g7-"
      },
      "source": [
        "## Assignment 3"
      ]
    },
    {
      "cell_type": "markdown",
      "metadata": {
        "id": "mYxqvSxQ4g8A"
      },
      "source": [
        "## Instructions\n",
        "* This is an individual assignment. You are not allowed to discuss the problems with other students.\n",
        "\n",
        "* Parts of this assignment will be autograded by gradescope. You can use it as immediate feedback to improve your answers. You can resubmit as many times as you want. Please also note that the **public tests are not exhaustive**, meaning that passing the public tests does not necessarily imply that your implementation is correct. It is recommended to test your implementation in your own ways instead of solely relying on the autograder.\n",
        "\n",
        "* All your solution, code, analysis, graphs, and explanations should be done in this same notebook.\n",
        "\n",
        "* Please make sure to execute all the cells before you submit the notebook to the gradescope. You will not get points for the plots if they are not generated already.\n",
        "\n",
        "* If you have questions regarding the assignment, you can ask for clarifications in Piazza. You should use the corresponding tag for this assignment.\n",
        "\n",
        "* Make sure to use Google Colab to avoid unnecessary issues. If you are having issues with Colab, try to restart your runtime ( Runtime -> Restart runtime ) and see if the issues persist.\n",
        "\n",
        "**Warning:** For this assignment, you are free to use libraries with general utilities, such as *numpy* and *pandas*, and you are expected to use pre-existing implementation of the algorithms available in *scikit-learn*.\n",
        "\n",
        "**When Submitting to GradeScope**: Be sure to\n",
        "1) Submit a `.ipynb` notebook to the `Assignment 3 - Programming` section on Gradescope.\n",
        "2) Submit a `pdf` version of the notebook to the `Assignment 3 - Analysis` entry. This should be the version of the `.ipynb` notebook with all the cells executed and corresponding graphs generated."
      ]
    },
    {
      "cell_type": "markdown",
      "metadata": {
        "id": "os5xXBLi4g8A"
      },
      "source": [
        "## Getting Started\n",
        "\n",
        "In this assignment, you will employ several supervised algorithms of your choice to accurately model individuals' income using data collected from the 1994 U.S. Census. You will then choose the best candidate algorithm from preliminary results and further optimize this algorithm to best model the data. Your goal with this implementation is to construct a model that accurately predicts whether an individual makes more than $50,000. This sort of task can arise in a non-profit setting, where organizations survive on donations.  Understanding an individual's income can help a non-profit better understand how large of a donation to request, or whether or not they should reach out to begin with.  While it can be difficult to determine an individual's general income bracket directly from public sources, we can (as we will see) infer this value from other publically available features.\n",
        "\n",
        "The dataset for this project originates from the [UCI Machine Learning Repository](https://archive.ics.uci.edu/ml/datasets/Census+Income). The datset was donated by Ron Kohavi and Barry Becker, after being published in the article _\"Scaling Up the Accuracy of Naive-Bayes Classifiers: A Decision-Tree Hybrid\"_. You can find the article by Ron Kohavi [online](https://www.aaai.org/Papers/KDD/1996/KDD96-033.pdf). The data we investigate here consists of small changes to the original dataset, such as removing the `'fnlwgt'` feature and records with missing or ill-formatted entries."
      ]
    },
    {
      "cell_type": "markdown",
      "metadata": {
        "id": "HDGxU1BCl__N"
      },
      "source": [
        "The next two cells install and initialize otter-grader. You should run these cells as they are WITHOUT modifying them!"
      ]
    },
    {
      "cell_type": "code",
      "execution_count": 1,
      "metadata": {
        "id": "Mw2v-ZOjkWZR"
      },
      "outputs": [
        {
          "name": "stdout",
          "output_type": "stream",
          "text": [
            "Collecting otter-grader\n",
            "  Obtaining dependency information for otter-grader from https://files.pythonhosted.org/packages/62/4b/8bcd3d092771970ae42bdac9019e6fda72e2681a92309f951dc6962ca442/otter_grader-5.2.2-py3-none-any.whl.metadata\n",
            "  Downloading otter_grader-5.2.2-py3-none-any.whl.metadata (2.9 kB)\n",
            "Collecting dill (from otter-grader)\n",
            "  Obtaining dependency information for dill from https://files.pythonhosted.org/packages/f5/3a/74a29b11cf2cdfcd6ba89c0cecd70b37cd1ba7b77978ce611eb7a146a832/dill-0.3.7-py3-none-any.whl.metadata\n",
            "  Using cached dill-0.3.7-py3-none-any.whl.metadata (9.9 kB)\n",
            "Collecting jinja2 (from otter-grader)\n",
            "  Using cached Jinja2-3.1.2-py3-none-any.whl (133 kB)\n",
            "Collecting nbformat (from otter-grader)\n",
            "  Obtaining dependency information for nbformat from https://files.pythonhosted.org/packages/f4/e7/ef30a90b70eba39e675689b9eaaa92530a71d7435ab8f9cae520814e0caf/nbformat-5.9.2-py3-none-any.whl.metadata\n",
            "  Using cached nbformat-5.9.2-py3-none-any.whl.metadata (3.4 kB)\n",
            "Collecting pandas (from otter-grader)\n",
            "  Obtaining dependency information for pandas from https://files.pythonhosted.org/packages/db/3e/db3e98911b5da217d1e3f85b6e091448cb8f8be674bdaff3c0ec0dd855e0/pandas-2.1.2-cp311-cp311-win_amd64.whl.metadata\n",
            "  Downloading pandas-2.1.2-cp311-cp311-win_amd64.whl.metadata (18 kB)\n",
            "Collecting PyYAML (from otter-grader)\n",
            "  Obtaining dependency information for PyYAML from https://files.pythonhosted.org/packages/b3/34/65bb4b2d7908044963ebf614fe0fdb080773fc7030d7e39c8d3eddcd4257/PyYAML-6.0.1-cp311-cp311-win_amd64.whl.metadata\n",
            "  Using cached PyYAML-6.0.1-cp311-cp311-win_amd64.whl.metadata (2.1 kB)\n",
            "Collecting python-on-whales (from otter-grader)\n",
            "  Obtaining dependency information for python-on-whales from https://files.pythonhosted.org/packages/73/60/acb2b50443cc8647e6ad19b0681827c7516fd31ca5f22d82378b047c80b3/python_on_whales-0.65.0-py3-none-any.whl.metadata\n",
            "  Downloading python_on_whales-0.65.0-py3-none-any.whl.metadata (18 kB)\n",
            "Collecting requests (from otter-grader)\n",
            "  Obtaining dependency information for requests from https://files.pythonhosted.org/packages/70/8e/0e2d847013cb52cd35b38c009bb167a1a26b2ce6cd6965bf26b47bc0bf44/requests-2.31.0-py3-none-any.whl.metadata\n",
            "  Using cached requests-2.31.0-py3-none-any.whl.metadata (4.6 kB)\n",
            "Collecting wrapt (from otter-grader)\n",
            "  Using cached wrapt-1.15.0-cp311-cp311-win_amd64.whl (36 kB)\n",
            "Collecting jupytext (from otter-grader)\n",
            "  Obtaining dependency information for jupytext from https://files.pythonhosted.org/packages/9e/e3/3c5b6cce216d090ed6cf6cc258602f836d050738ac02f97cb71675f9cfe3/jupytext-1.15.2-py3-none-any.whl.metadata\n",
            "  Using cached jupytext-1.15.2-py3-none-any.whl.metadata (9.7 kB)\n",
            "Collecting click (from otter-grader)\n",
            "  Obtaining dependency information for click from https://files.pythonhosted.org/packages/00/2e/d53fa4befbf2cfa713304affc7ca780ce4fc1fd8710527771b58311a3229/click-8.1.7-py3-none-any.whl.metadata\n",
            "  Using cached click-8.1.7-py3-none-any.whl.metadata (3.0 kB)\n",
            "Collecting fica>=0.3.0 (from otter-grader)\n",
            "  Obtaining dependency information for fica>=0.3.0 from https://files.pythonhosted.org/packages/32/b5/02a7a7b35b6aac188f87e88c5c9be3d6f957eb1a0e5331f9c4f5d8ba26a0/fica-0.3.1-py3-none-any.whl.metadata\n",
            "  Using cached fica-0.3.1-py3-none-any.whl.metadata (1.6 kB)\n",
            "Requirement already satisfied: ipython in c:\\users\\lomin\\onedrive\\desktop\\ml_assignments\\a3\\venv\\lib\\site-packages (from otter-grader) (8.17.1)\n",
            "Collecting astunparse (from otter-grader)\n",
            "  Using cached astunparse-1.6.3-py2.py3-none-any.whl (12 kB)\n",
            "Collecting ipywidgets (from otter-grader)\n",
            "  Obtaining dependency information for ipywidgets from https://files.pythonhosted.org/packages/4a/0e/57ed498fafbc60419a9332d872e929879ceba2d73cb11d284d7112472b3e/ipywidgets-8.1.1-py3-none-any.whl.metadata\n",
            "  Using cached ipywidgets-8.1.1-py3-none-any.whl.metadata (2.4 kB)\n",
            "Collecting ipylab (from otter-grader)\n",
            "  Obtaining dependency information for ipylab from https://files.pythonhosted.org/packages/f3/22/55420199db1a2eb4ed86bdd5218d15d037582e2c6ab6dc108a4298f696d0/ipylab-1.0.0-py3-none-any.whl.metadata\n",
            "  Using cached ipylab-1.0.0-py3-none-any.whl.metadata (6.7 kB)\n",
            "Collecting nbconvert (from otter-grader)\n",
            "  Obtaining dependency information for nbconvert from https://files.pythonhosted.org/packages/18/71/0f58015055be21f99af33d25f3e565eb43058e84da5a4d9da65df854fcb1/nbconvert-7.10.0-py3-none-any.whl.metadata\n",
            "  Downloading nbconvert-7.10.0-py3-none-any.whl.metadata (7.8 kB)\n",
            "Collecting docutils (from fica>=0.3.0->otter-grader)\n",
            "  Obtaining dependency information for docutils from https://files.pythonhosted.org/packages/26/87/f238c0670b94533ac0353a4e2a1a771a0cc73277b88bff23d3ae35a256c1/docutils-0.20.1-py3-none-any.whl.metadata\n",
            "  Using cached docutils-0.20.1-py3-none-any.whl.metadata (2.8 kB)\n",
            "Collecting sphinx (from fica>=0.3.0->otter-grader)\n",
            "  Obtaining dependency information for sphinx from https://files.pythonhosted.org/packages/b2/b6/8ed35256aa530a9d3da15d20bdc0ba888d5364441bb50a5a83ee7827affe/sphinx-7.2.6-py3-none-any.whl.metadata\n",
            "  Using cached sphinx-7.2.6-py3-none-any.whl.metadata (5.9 kB)\n",
            "Collecting wheel<1.0,>=0.23.0 (from astunparse->otter-grader)\n",
            "  Obtaining dependency information for wheel<1.0,>=0.23.0 from https://files.pythonhosted.org/packages/fa/7f/4c07234086edbce4a0a446209dc0cb08a19bb206a3ea53b2f56a403f983b/wheel-0.41.3-py3-none-any.whl.metadata\n",
            "  Downloading wheel-0.41.3-py3-none-any.whl.metadata (2.2 kB)\n",
            "Requirement already satisfied: six<2.0,>=1.6.1 in c:\\users\\lomin\\onedrive\\desktop\\ml_assignments\\a3\\venv\\lib\\site-packages (from astunparse->otter-grader) (1.16.0)\n",
            "Requirement already satisfied: colorama in c:\\users\\lomin\\onedrive\\desktop\\ml_assignments\\a3\\venv\\lib\\site-packages (from click->otter-grader) (0.4.6)\n",
            "Requirement already satisfied: comm>=0.1.3 in c:\\users\\lomin\\onedrive\\desktop\\ml_assignments\\a3\\venv\\lib\\site-packages (from ipywidgets->otter-grader) (0.1.4)\n",
            "Requirement already satisfied: traitlets>=4.3.1 in c:\\users\\lomin\\onedrive\\desktop\\ml_assignments\\a3\\venv\\lib\\site-packages (from ipywidgets->otter-grader) (5.13.0)\n",
            "Collecting widgetsnbextension~=4.0.9 (from ipywidgets->otter-grader)\n",
            "  Obtaining dependency information for widgetsnbextension~=4.0.9 from https://files.pythonhosted.org/packages/29/03/107d96077c4befed191f7ad1a12c7b52a8f9d2778a5836d59f9855c105f6/widgetsnbextension-4.0.9-py3-none-any.whl.metadata\n",
            "  Using cached widgetsnbextension-4.0.9-py3-none-any.whl.metadata (1.6 kB)\n",
            "Collecting jupyterlab-widgets~=3.0.9 (from ipywidgets->otter-grader)\n",
            "  Obtaining dependency information for jupyterlab-widgets~=3.0.9 from https://files.pythonhosted.org/packages/e8/05/0ebab152288693b5ec7b339aab857362947031143b282853b4c2dd4b5b40/jupyterlab_widgets-3.0.9-py3-none-any.whl.metadata\n",
            "  Using cached jupyterlab_widgets-3.0.9-py3-none-any.whl.metadata (4.1 kB)\n",
            "Requirement already satisfied: decorator in c:\\users\\lomin\\onedrive\\desktop\\ml_assignments\\a3\\venv\\lib\\site-packages (from ipython->otter-grader) (5.1.1)\n",
            "Requirement already satisfied: jedi>=0.16 in c:\\users\\lomin\\onedrive\\desktop\\ml_assignments\\a3\\venv\\lib\\site-packages (from ipython->otter-grader) (0.19.1)\n",
            "Requirement already satisfied: matplotlib-inline in c:\\users\\lomin\\onedrive\\desktop\\ml_assignments\\a3\\venv\\lib\\site-packages (from ipython->otter-grader) (0.1.6)\n",
            "Requirement already satisfied: prompt-toolkit!=3.0.37,<3.1.0,>=3.0.30 in c:\\users\\lomin\\onedrive\\desktop\\ml_assignments\\a3\\venv\\lib\\site-packages (from ipython->otter-grader) (3.0.39)\n",
            "Requirement already satisfied: pygments>=2.4.0 in c:\\users\\lomin\\onedrive\\desktop\\ml_assignments\\a3\\venv\\lib\\site-packages (from ipython->otter-grader) (2.16.1)\n",
            "Requirement already satisfied: stack-data in c:\\users\\lomin\\onedrive\\desktop\\ml_assignments\\a3\\venv\\lib\\site-packages (from ipython->otter-grader) (0.6.3)\n",
            "Collecting MarkupSafe>=2.0 (from jinja2->otter-grader)\n",
            "  Obtaining dependency information for MarkupSafe>=2.0 from https://files.pythonhosted.org/packages/be/bb/08b85bc194034efbf572e70c3951549c8eca0ada25363afc154386b5390a/MarkupSafe-2.1.3-cp311-cp311-win_amd64.whl.metadata\n",
            "  Using cached MarkupSafe-2.1.3-cp311-cp311-win_amd64.whl.metadata (3.1 kB)\n",
            "Collecting toml (from jupytext->otter-grader)\n",
            "  Using cached toml-0.10.2-py2.py3-none-any.whl (16 kB)\n",
            "Collecting markdown-it-py>=1.0.0 (from jupytext->otter-grader)\n",
            "  Obtaining dependency information for markdown-it-py>=1.0.0 from https://files.pythonhosted.org/packages/42/d7/1ec15b46af6af88f19b8e5ffea08fa375d433c998b8a7639e76935c14f1f/markdown_it_py-3.0.0-py3-none-any.whl.metadata\n",
            "  Using cached markdown_it_py-3.0.0-py3-none-any.whl.metadata (6.9 kB)\n",
            "Collecting mdit-py-plugins (from jupytext->otter-grader)\n",
            "  Obtaining dependency information for mdit-py-plugins from https://files.pythonhosted.org/packages/e5/3c/fe85f19699a7b40c8f9ce8ecee7e269b9b3c94099306df6f9891bdefeedd/mdit_py_plugins-0.4.0-py3-none-any.whl.metadata\n",
            "  Using cached mdit_py_plugins-0.4.0-py3-none-any.whl.metadata (2.7 kB)\n",
            "Collecting beautifulsoup4 (from nbconvert->otter-grader)\n",
            "  Using cached beautifulsoup4-4.12.2-py3-none-any.whl (142 kB)\n",
            "Collecting bleach!=5.0.0 (from nbconvert->otter-grader)\n",
            "  Obtaining dependency information for bleach!=5.0.0 from https://files.pythonhosted.org/packages/ea/63/da7237f805089ecc28a3f36bca6a21c31fcbc2eb380f3b8f1be3312abd14/bleach-6.1.0-py3-none-any.whl.metadata\n",
            "  Using cached bleach-6.1.0-py3-none-any.whl.metadata (30 kB)\n",
            "Collecting defusedxml (from nbconvert->otter-grader)\n",
            "  Using cached defusedxml-0.7.1-py2.py3-none-any.whl (25 kB)\n",
            "Requirement already satisfied: jupyter-core>=4.7 in c:\\users\\lomin\\onedrive\\desktop\\ml_assignments\\a3\\venv\\lib\\site-packages (from nbconvert->otter-grader) (5.5.0)\n",
            "Collecting jupyterlab-pygments (from nbconvert->otter-grader)\n",
            "  Using cached jupyterlab_pygments-0.2.2-py2.py3-none-any.whl (21 kB)\n",
            "Collecting mistune<4,>=2.0.3 (from nbconvert->otter-grader)\n",
            "  Obtaining dependency information for mistune<4,>=2.0.3 from https://files.pythonhosted.org/packages/f0/74/c95adcdf032956d9ef6c89a9b8a5152bf73915f8c633f3e3d88d06bd699c/mistune-3.0.2-py3-none-any.whl.metadata\n",
            "  Using cached mistune-3.0.2-py3-none-any.whl.metadata (1.7 kB)\n",
            "Collecting nbclient>=0.5.0 (from nbconvert->otter-grader)\n",
            "  Obtaining dependency information for nbclient>=0.5.0 from https://files.pythonhosted.org/packages/ac/5a/d670ca51e6c3d98574b9647599821590efcd811d71f58e9c89fc59a17685/nbclient-0.8.0-py3-none-any.whl.metadata\n",
            "  Using cached nbclient-0.8.0-py3-none-any.whl.metadata (7.8 kB)\n",
            "Requirement already satisfied: packaging in c:\\users\\lomin\\onedrive\\desktop\\ml_assignments\\a3\\venv\\lib\\site-packages (from nbconvert->otter-grader) (23.2)\n",
            "Collecting pandocfilters>=1.4.1 (from nbconvert->otter-grader)\n",
            "  Using cached pandocfilters-1.5.0-py2.py3-none-any.whl (8.7 kB)\n",
            "Collecting tinycss2 (from nbconvert->otter-grader)\n",
            "  Using cached tinycss2-1.2.1-py3-none-any.whl (21 kB)\n",
            "Collecting fastjsonschema (from nbformat->otter-grader)\n",
            "  Obtaining dependency information for fastjsonschema from https://files.pythonhosted.org/packages/7f/1a/8aad366cf1779351741e5c791ae76dc8b293f72e9448c689cc2e730f06cb/fastjsonschema-2.18.1-py3-none-any.whl.metadata\n",
            "  Using cached fastjsonschema-2.18.1-py3-none-any.whl.metadata (2.0 kB)\n",
            "Collecting jsonschema>=2.6 (from nbformat->otter-grader)\n",
            "  Obtaining dependency information for jsonschema>=2.6 from https://files.pythonhosted.org/packages/ce/aa/d1bd0b5ec568a903cc3ebcb6b096ab65c1d971c8a01ca3bf3cf788c3c646/jsonschema-4.19.2-py3-none-any.whl.metadata\n",
            "  Downloading jsonschema-4.19.2-py3-none-any.whl.metadata (7.9 kB)\n",
            "Collecting numpy<2,>=1.23.2 (from pandas->otter-grader)\n",
            "  Obtaining dependency information for numpy<2,>=1.23.2 from https://files.pythonhosted.org/packages/82/0f/3f712cd84371636c5375d2dd70e7514d264cec6bdfc3d7997a4236e9f948/numpy-1.26.1-cp311-cp311-win_amd64.whl.metadata\n",
            "  Downloading numpy-1.26.1-cp311-cp311-win_amd64.whl.metadata (61 kB)\n",
            "     ---------------------------------------- 0.0/61.2 kB ? eta -:--:--\n",
            "     ---------------------------------------- 61.2/61.2 kB 3.2 MB/s eta 0:00:00\n",
            "Requirement already satisfied: python-dateutil>=2.8.2 in c:\\users\\lomin\\onedrive\\desktop\\ml_assignments\\a3\\venv\\lib\\site-packages (from pandas->otter-grader) (2.8.2)\n",
            "Collecting pytz>=2020.1 (from pandas->otter-grader)\n",
            "  Obtaining dependency information for pytz>=2020.1 from https://files.pythonhosted.org/packages/32/4d/aaf7eff5deb402fd9a24a1449a8119f00d74ae9c2efa79f8ef9994261fc2/pytz-2023.3.post1-py2.py3-none-any.whl.metadata\n",
            "  Using cached pytz-2023.3.post1-py2.py3-none-any.whl.metadata (22 kB)\n",
            "Collecting tzdata>=2022.1 (from pandas->otter-grader)\n",
            "  Using cached tzdata-2023.3-py2.py3-none-any.whl (341 kB)\n",
            "Collecting pydantic!=2.0.*,<3,>=1.5 (from python-on-whales->otter-grader)\n",
            "  Obtaining dependency information for pydantic!=2.0.*,<3,>=1.5 from https://files.pythonhosted.org/packages/73/66/0a72c9fcde42e5650c8d8d5c5c1873b9a3893018020c77ca8eb62708b923/pydantic-2.4.2-py3-none-any.whl.metadata\n",
            "  Downloading pydantic-2.4.2-py3-none-any.whl.metadata (158 kB)\n",
            "     ---------------------------------------- 0.0/158.6 kB ? eta -:--:--\n",
            "     -------------------------------------- 158.6/158.6 kB 9.9 MB/s eta 0:00:00\n",
            "Collecting tqdm (from python-on-whales->otter-grader)\n",
            "  Obtaining dependency information for tqdm from https://files.pythonhosted.org/packages/00/e5/f12a80907d0884e6dff9c16d0c0114d81b8cd07dc3ae54c5e962cc83037e/tqdm-4.66.1-py3-none-any.whl.metadata\n",
            "  Using cached tqdm-4.66.1-py3-none-any.whl.metadata (57 kB)\n",
            "Collecting typer>=0.4.1 (from python-on-whales->otter-grader)\n",
            "  Using cached typer-0.9.0-py3-none-any.whl (45 kB)\n",
            "Collecting typing-extensions (from python-on-whales->otter-grader)\n",
            "  Obtaining dependency information for typing-extensions from https://files.pythonhosted.org/packages/24/21/7d397a4b7934ff4028987914ac1044d3b7d52712f30e2ac7a2ae5bc86dd0/typing_extensions-4.8.0-py3-none-any.whl.metadata\n",
            "  Using cached typing_extensions-4.8.0-py3-none-any.whl.metadata (3.0 kB)\n",
            "Collecting charset-normalizer<4,>=2 (from requests->otter-grader)\n",
            "  Obtaining dependency information for charset-normalizer<4,>=2 from https://files.pythonhosted.org/packages/ef/96/1c7e85db0a1b2f182d47375987e82aacb60c987e3943b11ccce3fc6aebab/charset_normalizer-3.3.1-cp311-cp311-win_amd64.whl.metadata\n",
            "  Using cached charset_normalizer-3.3.1-cp311-cp311-win_amd64.whl.metadata (33 kB)\n",
            "Collecting idna<4,>=2.5 (from requests->otter-grader)\n",
            "  Using cached idna-3.4-py3-none-any.whl (61 kB)\n",
            "Collecting urllib3<3,>=1.21.1 (from requests->otter-grader)\n",
            "  Obtaining dependency information for urllib3<3,>=1.21.1 from https://files.pythonhosted.org/packages/d2/b2/b157855192a68541a91ba7b2bbcb91f1b4faa51f8bae38d8005c034be524/urllib3-2.0.7-py3-none-any.whl.metadata\n",
            "  Using cached urllib3-2.0.7-py3-none-any.whl.metadata (6.6 kB)\n",
            "Collecting certifi>=2017.4.17 (from requests->otter-grader)\n",
            "  Obtaining dependency information for certifi>=2017.4.17 from https://files.pythonhosted.org/packages/4c/dd/2234eab22353ffc7d94e8d13177aaa050113286e93e7b40eae01fbf7c3d9/certifi-2023.7.22-py3-none-any.whl.metadata\n",
            "  Using cached certifi-2023.7.22-py3-none-any.whl.metadata (2.2 kB)\n",
            "Collecting webencodings (from bleach!=5.0.0->nbconvert->otter-grader)\n",
            "  Using cached webencodings-0.5.1-py2.py3-none-any.whl (11 kB)\n",
            "Requirement already satisfied: parso<0.9.0,>=0.8.3 in c:\\users\\lomin\\onedrive\\desktop\\ml_assignments\\a3\\venv\\lib\\site-packages (from jedi>=0.16->ipython->otter-grader) (0.8.3)\n",
            "Collecting attrs>=22.2.0 (from jsonschema>=2.6->nbformat->otter-grader)\n",
            "  Using cached attrs-23.1.0-py3-none-any.whl (61 kB)\n",
            "Collecting jsonschema-specifications>=2023.03.6 (from jsonschema>=2.6->nbformat->otter-grader)\n",
            "  Obtaining dependency information for jsonschema-specifications>=2023.03.6 from https://files.pythonhosted.org/packages/1c/24/83349ac2189cc2435e84da3f69ba3c97314d3c0622628e55171c6798ed80/jsonschema_specifications-2023.7.1-py3-none-any.whl.metadata\n",
            "  Using cached jsonschema_specifications-2023.7.1-py3-none-any.whl.metadata (2.8 kB)\n",
            "Collecting referencing>=0.28.4 (from jsonschema>=2.6->nbformat->otter-grader)\n",
            "  Obtaining dependency information for referencing>=0.28.4 from https://files.pythonhosted.org/packages/be/8e/56d6f1e2d591f4d6cbcba446cac4a1b0dc4f584537e2071d9bcee8eeab6b/referencing-0.30.2-py3-none-any.whl.metadata\n",
            "  Using cached referencing-0.30.2-py3-none-any.whl.metadata (2.6 kB)\n",
            "Collecting rpds-py>=0.7.1 (from jsonschema>=2.6->nbformat->otter-grader)\n",
            "  Obtaining dependency information for rpds-py>=0.7.1 from https://files.pythonhosted.org/packages/8d/25/1ed6cf9fd6333bdb1d585d6e63ee144e97b079a0d5ff9ec5992868068300/rpds_py-0.10.6-cp311-none-win_amd64.whl.metadata\n",
            "  Using cached rpds_py-0.10.6-cp311-none-win_amd64.whl.metadata (3.8 kB)\n",
            "Requirement already satisfied: platformdirs>=2.5 in c:\\users\\lomin\\onedrive\\desktop\\ml_assignments\\a3\\venv\\lib\\site-packages (from jupyter-core>=4.7->nbconvert->otter-grader) (3.11.0)\n",
            "Requirement already satisfied: pywin32>=300 in c:\\users\\lomin\\onedrive\\desktop\\ml_assignments\\a3\\venv\\lib\\site-packages (from jupyter-core>=4.7->nbconvert->otter-grader) (306)\n",
            "Collecting mdurl~=0.1 (from markdown-it-py>=1.0.0->jupytext->otter-grader)\n",
            "  Using cached mdurl-0.1.2-py3-none-any.whl (10.0 kB)\n",
            "Requirement already satisfied: jupyter-client>=6.1.12 in c:\\users\\lomin\\onedrive\\desktop\\ml_assignments\\a3\\venv\\lib\\site-packages (from nbclient>=0.5.0->nbconvert->otter-grader) (8.5.0)\n",
            "Requirement already satisfied: wcwidth in c:\\users\\lomin\\onedrive\\desktop\\ml_assignments\\a3\\venv\\lib\\site-packages (from prompt-toolkit!=3.0.37,<3.1.0,>=3.0.30->ipython->otter-grader) (0.2.9)\n",
            "Collecting annotated-types>=0.4.0 (from pydantic!=2.0.*,<3,>=1.5->python-on-whales->otter-grader)\n",
            "  Obtaining dependency information for annotated-types>=0.4.0 from https://files.pythonhosted.org/packages/28/78/d31230046e58c207284c6b2c4e8d96e6d3cb4e52354721b944d3e1ee4aa5/annotated_types-0.6.0-py3-none-any.whl.metadata\n",
            "  Downloading annotated_types-0.6.0-py3-none-any.whl.metadata (12 kB)\n",
            "Collecting pydantic-core==2.10.1 (from pydantic!=2.0.*,<3,>=1.5->python-on-whales->otter-grader)\n",
            "  Obtaining dependency information for pydantic-core==2.10.1 from https://files.pythonhosted.org/packages/7c/49/bd863a3d7c5412d739f3a28da0f437f25ccfa92413675c93412e64b812ed/pydantic_core-2.10.1-cp311-none-win_amd64.whl.metadata\n",
            "  Downloading pydantic_core-2.10.1-cp311-none-win_amd64.whl.metadata (6.6 kB)\n",
            "Collecting soupsieve>1.2 (from beautifulsoup4->nbconvert->otter-grader)\n",
            "  Obtaining dependency information for soupsieve>1.2 from https://files.pythonhosted.org/packages/4c/f3/038b302fdfbe3be7da016777069f26ceefe11a681055ea1f7817546508e3/soupsieve-2.5-py3-none-any.whl.metadata\n",
            "  Using cached soupsieve-2.5-py3-none-any.whl.metadata (4.7 kB)\n",
            "Collecting sphinxcontrib-applehelp (from sphinx->fica>=0.3.0->otter-grader)\n",
            "  Obtaining dependency information for sphinxcontrib-applehelp from https://files.pythonhosted.org/packages/c0/0c/261c0949083c0ac635853528bb0070c89e927841d4e533ba0b5563365c06/sphinxcontrib_applehelp-1.0.7-py3-none-any.whl.metadata\n",
            "  Using cached sphinxcontrib_applehelp-1.0.7-py3-none-any.whl.metadata (2.2 kB)\n",
            "Collecting sphinxcontrib-devhelp (from sphinx->fica>=0.3.0->otter-grader)\n",
            "  Obtaining dependency information for sphinxcontrib-devhelp from https://files.pythonhosted.org/packages/c0/03/010ac733ec7b7f71c1dc88e7115743ee466560d6d85373b56fb9916e4586/sphinxcontrib_devhelp-1.0.5-py3-none-any.whl.metadata\n",
            "  Using cached sphinxcontrib_devhelp-1.0.5-py3-none-any.whl.metadata (2.2 kB)\n",
            "Collecting sphinxcontrib-jsmath (from sphinx->fica>=0.3.0->otter-grader)\n",
            "  Using cached sphinxcontrib_jsmath-1.0.1-py2.py3-none-any.whl (5.1 kB)\n",
            "Collecting sphinxcontrib-htmlhelp>=2.0.0 (from sphinx->fica>=0.3.0->otter-grader)\n",
            "  Obtaining dependency information for sphinxcontrib-htmlhelp>=2.0.0 from https://files.pythonhosted.org/packages/28/7a/958f8e3e6abe8219d0d1f1224886de847ab227b218f4a07b61bc337f64be/sphinxcontrib_htmlhelp-2.0.4-py3-none-any.whl.metadata\n",
            "  Using cached sphinxcontrib_htmlhelp-2.0.4-py3-none-any.whl.metadata (2.2 kB)\n",
            "Collecting sphinxcontrib-serializinghtml>=1.1.9 (from sphinx->fica>=0.3.0->otter-grader)\n",
            "  Obtaining dependency information for sphinxcontrib-serializinghtml>=1.1.9 from https://files.pythonhosted.org/packages/95/d6/2e0bda62b2a808070ac922d21a950aa2cb5e4fcfb87e5ff5f86bc43a2201/sphinxcontrib_serializinghtml-1.1.9-py3-none-any.whl.metadata\n",
            "  Using cached sphinxcontrib_serializinghtml-1.1.9-py3-none-any.whl.metadata (2.3 kB)\n",
            "Collecting sphinxcontrib-qthelp (from sphinx->fica>=0.3.0->otter-grader)\n",
            "  Obtaining dependency information for sphinxcontrib-qthelp from https://files.pythonhosted.org/packages/1f/e5/1850f3f118e95581c1e30b57028ac979badee1eb29e70ee72b0241f5a185/sphinxcontrib_qthelp-1.0.6-py3-none-any.whl.metadata\n",
            "  Using cached sphinxcontrib_qthelp-1.0.6-py3-none-any.whl.metadata (2.2 kB)\n",
            "Collecting snowballstemmer>=2.0 (from sphinx->fica>=0.3.0->otter-grader)\n",
            "  Using cached snowballstemmer-2.2.0-py2.py3-none-any.whl (93 kB)\n",
            "Collecting babel>=2.9 (from sphinx->fica>=0.3.0->otter-grader)\n",
            "  Obtaining dependency information for babel>=2.9 from https://files.pythonhosted.org/packages/86/14/5dc2eb02b7cc87b2f95930310a2cc5229198414919a116b564832c747bc1/Babel-2.13.1-py3-none-any.whl.metadata\n",
            "  Downloading Babel-2.13.1-py3-none-any.whl.metadata (1.6 kB)\n",
            "Collecting alabaster<0.8,>=0.7 (from sphinx->fica>=0.3.0->otter-grader)\n",
            "  Using cached alabaster-0.7.13-py3-none-any.whl (13 kB)\n",
            "Collecting imagesize>=1.3 (from sphinx->fica>=0.3.0->otter-grader)\n",
            "  Using cached imagesize-1.4.1-py2.py3-none-any.whl (8.8 kB)\n",
            "Requirement already satisfied: executing>=1.2.0 in c:\\users\\lomin\\onedrive\\desktop\\ml_assignments\\a3\\venv\\lib\\site-packages (from stack-data->ipython->otter-grader) (2.0.1)\n",
            "Requirement already satisfied: asttokens>=2.1.0 in c:\\users\\lomin\\onedrive\\desktop\\ml_assignments\\a3\\venv\\lib\\site-packages (from stack-data->ipython->otter-grader) (2.4.1)\n",
            "Requirement already satisfied: pure-eval in c:\\users\\lomin\\onedrive\\desktop\\ml_assignments\\a3\\venv\\lib\\site-packages (from stack-data->ipython->otter-grader) (0.2.2)\n",
            "Requirement already satisfied: pyzmq>=23.0 in c:\\users\\lomin\\onedrive\\desktop\\ml_assignments\\a3\\venv\\lib\\site-packages (from jupyter-client>=6.1.12->nbclient>=0.5.0->nbconvert->otter-grader) (25.1.1)\n",
            "Requirement already satisfied: tornado>=6.2 in c:\\users\\lomin\\onedrive\\desktop\\ml_assignments\\a3\\venv\\lib\\site-packages (from jupyter-client>=6.1.12->nbclient>=0.5.0->nbconvert->otter-grader) (6.3.3)\n",
            "Downloading otter_grader-5.2.2-py3-none-any.whl (157 kB)\n",
            "   ---------------------------------------- 0.0/158.0 kB ? eta -:--:--\n",
            "   ---------------------------------------- 158.0/158.0 kB 9.2 MB/s eta 0:00:00\n",
            "Using cached fica-0.3.1-py3-none-any.whl (12 kB)\n",
            "Using cached click-8.1.7-py3-none-any.whl (97 kB)\n",
            "Using cached dill-0.3.7-py3-none-any.whl (115 kB)\n",
            "Using cached ipylab-1.0.0-py3-none-any.whl (100 kB)\n",
            "Using cached ipywidgets-8.1.1-py3-none-any.whl (139 kB)\n",
            "Using cached jupytext-1.15.2-py3-none-any.whl (307 kB)\n",
            "Downloading nbconvert-7.10.0-py3-none-any.whl (256 kB)\n",
            "   ---------------------------------------- 0.0/256.7 kB ? eta -:--:--\n",
            "   --------------------------------------- 256.7/256.7 kB 15.4 MB/s eta 0:00:00\n",
            "Using cached nbformat-5.9.2-py3-none-any.whl (77 kB)\n",
            "Downloading pandas-2.1.2-cp311-cp311-win_amd64.whl (10.6 MB)\n",
            "   ---------------------------------------- 0.0/10.6 MB ? eta -:--:--\n",
            "   -- ------------------------------------- 0.8/10.6 MB 16.3 MB/s eta 0:00:01\n",
            "   ----- ---------------------------------- 1.5/10.6 MB 15.9 MB/s eta 0:00:01\n",
            "   -------- ------------------------------- 2.2/10.6 MB 15.6 MB/s eta 0:00:01\n",
            "   ---------- ----------------------------- 2.7/10.6 MB 14.6 MB/s eta 0:00:01\n",
            "   ------------- -------------------------- 3.6/10.6 MB 15.1 MB/s eta 0:00:01\n",
            "   --------------- ------------------------ 4.2/10.6 MB 15.1 MB/s eta 0:00:01\n",
            "   ------------------ --------------------- 5.0/10.6 MB 15.3 MB/s eta 0:00:01\n",
            "   -------------------- ------------------- 5.5/10.6 MB 15.2 MB/s eta 0:00:01\n",
            "   ------------------------ --------------- 6.4/10.6 MB 15.2 MB/s eta 0:00:01\n",
            "   -------------------------- ------------- 7.1/10.6 MB 15.2 MB/s eta 0:00:01\n",
            "   ----------------------------- ---------- 7.9/10.6 MB 15.3 MB/s eta 0:00:01\n",
            "   -------------------------------- ------- 8.6/10.6 MB 15.2 MB/s eta 0:00:01\n",
            "   ---------------------------------- ----- 9.3/10.6 MB 15.2 MB/s eta 0:00:01\n",
            "   ------------------------------------- -- 10.0/10.6 MB 15.2 MB/s eta 0:00:01\n",
            "   ---------------------------------------  10.6/10.6 MB 15.6 MB/s eta 0:00:01\n",
            "   ---------------------------------------- 10.6/10.6 MB 14.5 MB/s eta 0:00:00\n",
            "Downloading python_on_whales-0.65.0-py3-none-any.whl (157 kB)\n",
            "   ---------------------------------------- 0.0/157.9 kB ? eta -:--:--\n",
            "   ---------------------------------------- 157.9/157.9 kB ? eta 0:00:00\n",
            "Using cached PyYAML-6.0.1-cp311-cp311-win_amd64.whl (144 kB)\n",
            "Using cached requests-2.31.0-py3-none-any.whl (62 kB)\n",
            "Using cached bleach-6.1.0-py3-none-any.whl (162 kB)\n",
            "Using cached certifi-2023.7.22-py3-none-any.whl (158 kB)\n",
            "Using cached charset_normalizer-3.3.1-cp311-cp311-win_amd64.whl (98 kB)\n",
            "Downloading jsonschema-4.19.2-py3-none-any.whl (83 kB)\n",
            "   ---------------------------------------- 0.0/83.6 kB ? eta -:--:--\n",
            "   ---------------------------------------- 83.6/83.6 kB ? eta 0:00:00\n",
            "Using cached jupyterlab_widgets-3.0.9-py3-none-any.whl (214 kB)\n",
            "Using cached markdown_it_py-3.0.0-py3-none-any.whl (87 kB)\n",
            "Using cached MarkupSafe-2.1.3-cp311-cp311-win_amd64.whl (17 kB)\n",
            "Using cached mistune-3.0.2-py3-none-any.whl (47 kB)\n",
            "Using cached nbclient-0.8.0-py3-none-any.whl (73 kB)\n",
            "Downloading numpy-1.26.1-cp311-cp311-win_amd64.whl (15.8 MB)\n",
            "   ---------------------------------------- 0.0/15.8 MB ? eta -:--:--\n",
            "   ---------------------------------------- 0.1/15.8 MB ? eta -:--:--\n",
            "   -- ------------------------------------- 0.8/15.8 MB 10.6 MB/s eta 0:00:02\n",
            "   ----- ---------------------------------- 2.1/15.8 MB 17.0 MB/s eta 0:00:01\n",
            "   ------- -------------------------------- 2.8/15.8 MB 16.5 MB/s eta 0:00:01\n",
            "   -------- ------------------------------- 3.6/15.8 MB 16.2 MB/s eta 0:00:01\n",
            "   ---------- ----------------------------- 4.3/15.8 MB 16.0 MB/s eta 0:00:01\n",
            "   ------------ --------------------------- 5.0/15.8 MB 15.9 MB/s eta 0:00:01\n",
            "   -------------- ------------------------- 5.7/15.8 MB 15.8 MB/s eta 0:00:01\n",
            "   ---------------- ----------------------- 6.4/15.8 MB 15.7 MB/s eta 0:00:01\n",
            "   ----------------- ---------------------- 7.1/15.8 MB 15.6 MB/s eta 0:00:01\n",
            "   ------------------- -------------------- 7.8/15.8 MB 15.6 MB/s eta 0:00:01\n",
            "   --------------------- ------------------ 8.5/15.8 MB 15.6 MB/s eta 0:00:01\n",
            "   ----------------------- ---------------- 9.1/15.8 MB 15.3 MB/s eta 0:00:01\n",
            "   ------------------------- -------------- 9.9/15.8 MB 15.5 MB/s eta 0:00:01\n",
            "   -------------------------- ------------- 10.6/15.8 MB 16.8 MB/s eta 0:00:01\n",
            "   ---------------------------- ----------- 11.2/15.8 MB 16.0 MB/s eta 0:00:01\n",
            "   ------------------------------ --------- 12.1/15.8 MB 15.6 MB/s eta 0:00:01\n",
            "   -------------------------------- ------- 12.8/15.8 MB 15.2 MB/s eta 0:00:01\n",
            "   ---------------------------------- ----- 13.5/15.8 MB 15.6 MB/s eta 0:00:01\n",
            "   ----------------------------------- ---- 14.2/15.8 MB 15.6 MB/s eta 0:00:01\n",
            "   ------------------------------------- -- 14.9/15.8 MB 15.6 MB/s eta 0:00:01\n",
            "   ---------------------------------------  15.6/15.8 MB 15.6 MB/s eta 0:00:01\n",
            "   ---------------------------------------  15.8/15.8 MB 15.2 MB/s eta 0:00:01\n",
            "   ---------------------------------------- 15.8/15.8 MB 13.9 MB/s eta 0:00:00\n",
            "Downloading pydantic-2.4.2-py3-none-any.whl (395 kB)\n",
            "   ---------------------------------------- 0.0/395.8 kB ? eta -:--:--\n",
            "   --------------------------------------- 395.8/395.8 kB 12.4 MB/s eta 0:00:00\n",
            "Downloading pydantic_core-2.10.1-cp311-none-win_amd64.whl (2.0 MB)\n",
            "   ---------------------------------------- 0.0/2.0 MB ? eta -:--:--\n",
            "   -------------- ------------------------- 0.7/2.0 MB 23.1 MB/s eta 0:00:01\n",
            "   ---------------------------- ----------- 1.4/2.0 MB 18.2 MB/s eta 0:00:01\n",
            "   ---------------------------------------  2.0/2.0 MB 18.0 MB/s eta 0:00:01\n",
            "   ---------------------------------------- 2.0/2.0 MB 15.8 MB/s eta 0:00:00\n",
            "Using cached pytz-2023.3.post1-py2.py3-none-any.whl (502 kB)\n",
            "Using cached typing_extensions-4.8.0-py3-none-any.whl (31 kB)\n",
            "Using cached urllib3-2.0.7-py3-none-any.whl (124 kB)\n",
            "Downloading wheel-0.41.3-py3-none-any.whl (65 kB)\n",
            "   ---------------------------------------- 0.0/65.8 kB ? eta -:--:--\n",
            "   ---------------------------------------- 65.8/65.8 kB 3.5 MB/s eta 0:00:00\n",
            "Using cached widgetsnbextension-4.0.9-py3-none-any.whl (2.3 MB)\n",
            "Using cached docutils-0.20.1-py3-none-any.whl (572 kB)\n",
            "Using cached fastjsonschema-2.18.1-py3-none-any.whl (23 kB)\n",
            "Using cached mdit_py_plugins-0.4.0-py3-none-any.whl (54 kB)\n",
            "Using cached sphinx-7.2.6-py3-none-any.whl (3.2 MB)\n",
            "Using cached tqdm-4.66.1-py3-none-any.whl (78 kB)\n",
            "Downloading annotated_types-0.6.0-py3-none-any.whl (12 kB)\n",
            "Downloading Babel-2.13.1-py3-none-any.whl (10.1 MB)\n",
            "   ---------------------------------------- 0.0/10.1 MB ? eta -:--:--\n",
            "   --- ------------------------------------ 0.9/10.1 MB 19.0 MB/s eta 0:00:01\n",
            "   ------ --------------------------------- 1.6/10.1 MB 16.4 MB/s eta 0:00:01\n",
            "   --------- ------------------------------ 2.3/10.1 MB 16.3 MB/s eta 0:00:01\n",
            "   ----------- ---------------------------- 3.0/10.1 MB 16.0 MB/s eta 0:00:01\n",
            "   ------------- -------------------------- 3.5/10.1 MB 15.9 MB/s eta 0:00:01\n",
            "   ----------------- ---------------------- 4.4/10.1 MB 15.7 MB/s eta 0:00:01\n",
            "   -------------------- ------------------- 5.2/10.1 MB 15.6 MB/s eta 0:00:01\n",
            "   ---------------------- ----------------- 5.6/10.1 MB 15.4 MB/s eta 0:00:01\n",
            "   -------------------------- ------------- 6.6/10.1 MB 15.5 MB/s eta 0:00:01\n",
            "   ---------------------------- ----------- 7.1/10.1 MB 15.7 MB/s eta 0:00:01\n",
            "   ------------------------------- -------- 8.0/10.1 MB 15.9 MB/s eta 0:00:01\n",
            "   ---------------------------------- ----- 8.7/10.1 MB 15.8 MB/s eta 0:00:01\n",
            "   ------------------------------------- -- 9.4/10.1 MB 15.8 MB/s eta 0:00:01\n",
            "   ---------------------------------------  10.0/10.1 MB 15.6 MB/s eta 0:00:01\n",
            "   ---------------------------------------- 10.1/10.1 MB 14.6 MB/s eta 0:00:00\n",
            "Using cached jsonschema_specifications-2023.7.1-py3-none-any.whl (17 kB)\n",
            "Using cached referencing-0.30.2-py3-none-any.whl (25 kB)\n",
            "Using cached rpds_py-0.10.6-cp311-none-win_amd64.whl (186 kB)\n",
            "Using cached soupsieve-2.5-py3-none-any.whl (36 kB)\n",
            "Using cached sphinxcontrib_htmlhelp-2.0.4-py3-none-any.whl (99 kB)\n",
            "Using cached sphinxcontrib_serializinghtml-1.1.9-py3-none-any.whl (92 kB)\n",
            "Using cached sphinxcontrib_applehelp-1.0.7-py3-none-any.whl (120 kB)\n",
            "Using cached sphinxcontrib_devhelp-1.0.5-py3-none-any.whl (83 kB)\n",
            "Using cached sphinxcontrib_qthelp-1.0.6-py3-none-any.whl (89 kB)\n",
            "Installing collected packages: webencodings, snowballstemmer, pytz, fastjsonschema, wrapt, widgetsnbextension, wheel, urllib3, tzdata, typing-extensions, tqdm, toml, tinycss2, sphinxcontrib-jsmath, soupsieve, rpds-py, PyYAML, pandocfilters, numpy, mistune, mdurl, MarkupSafe, jupyterlab-widgets, jupyterlab-pygments, imagesize, idna, docutils, dill, defusedxml, click, charset-normalizer, certifi, bleach, babel, attrs, annotated-types, alabaster, typer, requests, referencing, pydantic-core, pandas, markdown-it-py, jinja2, beautifulsoup4, astunparse, pydantic, mdit-py-plugins, jsonschema-specifications, python-on-whales, jsonschema, ipywidgets, nbformat, ipylab, nbclient, jupytext, nbconvert, sphinxcontrib-serializinghtml, sphinxcontrib-qthelp, sphinxcontrib-htmlhelp, sphinxcontrib-devhelp, sphinxcontrib-applehelp, sphinx, fica, otter-grader\n",
            "Successfully installed MarkupSafe-2.1.3 PyYAML-6.0.1 alabaster-0.7.13 annotated-types-0.6.0 astunparse-1.6.3 attrs-23.1.0 babel-2.13.1 beautifulsoup4-4.12.2 bleach-6.1.0 certifi-2023.7.22 charset-normalizer-3.3.1 click-8.1.7 defusedxml-0.7.1 dill-0.3.7 docutils-0.20.1 fastjsonschema-2.18.1 fica-0.3.1 idna-3.4 imagesize-1.4.1 ipylab-1.0.0 ipywidgets-8.1.1 jinja2-3.1.2 jsonschema-4.19.2 jsonschema-specifications-2023.7.1 jupyterlab-pygments-0.2.2 jupyterlab-widgets-3.0.9 jupytext-1.15.2 markdown-it-py-3.0.0 mdit-py-plugins-0.4.0 mdurl-0.1.2 mistune-3.0.2 nbclient-0.8.0 nbconvert-7.10.0 nbformat-5.9.2 numpy-1.26.1 otter-grader-5.2.2 pandas-2.1.2 pandocfilters-1.5.0 pydantic-2.4.2 pydantic-core-2.10.1 python-on-whales-0.65.0 pytz-2023.3.post1 referencing-0.30.2 requests-2.31.0 rpds-py-0.10.6 snowballstemmer-2.2.0 soupsieve-2.5 sphinx-7.2.6 sphinxcontrib-applehelp-1.0.7 sphinxcontrib-devhelp-1.0.5 sphinxcontrib-htmlhelp-2.0.4 sphinxcontrib-jsmath-1.0.1 sphinxcontrib-qthelp-1.0.6 sphinxcontrib-serializinghtml-1.1.9 tinycss2-1.2.1 toml-0.10.2 tqdm-4.66.1 typer-0.9.0 typing-extensions-4.8.0 tzdata-2023.3 urllib3-2.0.7 webencodings-0.5.1 wheel-0.41.3 widgetsnbextension-4.0.9 wrapt-1.15.0\n"
          ]
        },
        {
          "name": "stderr",
          "output_type": "stream",
          "text": [
            "\n",
            "[notice] A new release of pip is available: 23.2.1 -> 23.3.1\n",
            "[notice] To update, run: python.exe -m pip install --upgrade pip\n",
            "Cloning into 'public'...\n"
          ]
        }
      ],
      "source": [
        "!pip install otter-grader\n",
        "!git clone https://github.com/chandar-lab/INF8245e-assignments-2023.git public"
      ]
    },
    {
      "cell_type": "code",
      "execution_count": 6,
      "metadata": {
        "id": "y-_DB0Y2m1Ah"
      },
      "outputs": [
        {
          "name": "stdout",
          "output_type": "stream",
          "text": [
            "c:\\Users\\lomin\\OneDrive\\Desktop\\ML_assignments\\A3\\public\\a3\n"
          ]
        },
        {
          "name": "stderr",
          "output_type": "stream",
          "text": [
            "c:\\Users\\lomin\\OneDrive\\Desktop\\ML_assignments\\A3\\venv\\Lib\\site-packages\\IPython\\core\\magics\\osm.py:417: UserWarning: using dhist requires you to install the `pickleshare` library.\n",
            "  self.shell.db['dhist'] = compress_dhist(dhist)[-100:]\n"
          ]
        }
      ],
      "source": [
        "%cd public/a3"
      ]
    },
    {
      "cell_type": "code",
      "execution_count": 7,
      "metadata": {
        "id": "3qR3Tx-ukfr6"
      },
      "outputs": [],
      "source": [
        "# Initialize Otter\n",
        "import otter\n",
        "grader = otter.Notebook(colab=True, tests_dir='./tests')"
      ]
    },
    {
      "cell_type": "markdown",
      "metadata": {
        "id": "3dvMBTAr4g8A",
        "tags": []
      },
      "source": [
        "----\n",
        "## Exploring the Data\n",
        "Run the code cell below to load necessary Python libraries and load the census data. Note that the last column from this dataset, `'income'`, will be our target label (whether an individual makes more than, or at most, $50,000 annually). All other columns are features about each individual in the census database."
      ]
    },
    {
      "cell_type": "code",
      "execution_count": 10,
      "metadata": {
        "id": "qKdSO_eb4g8A",
        "scrolled": true
      },
      "outputs": [
        {
          "data": {
            "text/html": [
              "<div>\n",
              "<style scoped>\n",
              "    .dataframe tbody tr th:only-of-type {\n",
              "        vertical-align: middle;\n",
              "    }\n",
              "\n",
              "    .dataframe tbody tr th {\n",
              "        vertical-align: top;\n",
              "    }\n",
              "\n",
              "    .dataframe thead th {\n",
              "        text-align: right;\n",
              "    }\n",
              "</style>\n",
              "<table border=\"1\" class=\"dataframe\">\n",
              "  <thead>\n",
              "    <tr style=\"text-align: right;\">\n",
              "      <th></th>\n",
              "      <th>age</th>\n",
              "      <th>workclass</th>\n",
              "      <th>education_level</th>\n",
              "      <th>education-num</th>\n",
              "      <th>marital-status</th>\n",
              "      <th>occupation</th>\n",
              "      <th>relationship</th>\n",
              "      <th>race</th>\n",
              "      <th>sex</th>\n",
              "      <th>capital-gain</th>\n",
              "      <th>capital-loss</th>\n",
              "      <th>hours-per-week</th>\n",
              "      <th>native-country</th>\n",
              "      <th>income</th>\n",
              "    </tr>\n",
              "  </thead>\n",
              "  <tbody>\n",
              "    <tr>\n",
              "      <th>0</th>\n",
              "      <td>39</td>\n",
              "      <td>State-gov</td>\n",
              "      <td>Bachelors</td>\n",
              "      <td>13.0</td>\n",
              "      <td>Never-married</td>\n",
              "      <td>Adm-clerical</td>\n",
              "      <td>Not-in-family</td>\n",
              "      <td>White</td>\n",
              "      <td>Male</td>\n",
              "      <td>2174.0</td>\n",
              "      <td>0.0</td>\n",
              "      <td>40.0</td>\n",
              "      <td>United-States</td>\n",
              "      <td>&lt;=50K</td>\n",
              "    </tr>\n",
              "    <tr>\n",
              "      <th>1</th>\n",
              "      <td>50</td>\n",
              "      <td>Self-emp-not-inc</td>\n",
              "      <td>Bachelors</td>\n",
              "      <td>13.0</td>\n",
              "      <td>Married-civ-spouse</td>\n",
              "      <td>Exec-managerial</td>\n",
              "      <td>Husband</td>\n",
              "      <td>White</td>\n",
              "      <td>Male</td>\n",
              "      <td>0.0</td>\n",
              "      <td>0.0</td>\n",
              "      <td>13.0</td>\n",
              "      <td>United-States</td>\n",
              "      <td>&lt;=50K</td>\n",
              "    </tr>\n",
              "    <tr>\n",
              "      <th>2</th>\n",
              "      <td>38</td>\n",
              "      <td>Private</td>\n",
              "      <td>HS-grad</td>\n",
              "      <td>9.0</td>\n",
              "      <td>Divorced</td>\n",
              "      <td>Handlers-cleaners</td>\n",
              "      <td>Not-in-family</td>\n",
              "      <td>White</td>\n",
              "      <td>Male</td>\n",
              "      <td>0.0</td>\n",
              "      <td>0.0</td>\n",
              "      <td>40.0</td>\n",
              "      <td>United-States</td>\n",
              "      <td>&lt;=50K</td>\n",
              "    </tr>\n",
              "    <tr>\n",
              "      <th>3</th>\n",
              "      <td>53</td>\n",
              "      <td>Private</td>\n",
              "      <td>11th</td>\n",
              "      <td>7.0</td>\n",
              "      <td>Married-civ-spouse</td>\n",
              "      <td>Handlers-cleaners</td>\n",
              "      <td>Husband</td>\n",
              "      <td>Black</td>\n",
              "      <td>Male</td>\n",
              "      <td>0.0</td>\n",
              "      <td>0.0</td>\n",
              "      <td>40.0</td>\n",
              "      <td>United-States</td>\n",
              "      <td>&lt;=50K</td>\n",
              "    </tr>\n",
              "    <tr>\n",
              "      <th>4</th>\n",
              "      <td>28</td>\n",
              "      <td>Private</td>\n",
              "      <td>Bachelors</td>\n",
              "      <td>13.0</td>\n",
              "      <td>Married-civ-spouse</td>\n",
              "      <td>Prof-specialty</td>\n",
              "      <td>Wife</td>\n",
              "      <td>Black</td>\n",
              "      <td>Female</td>\n",
              "      <td>0.0</td>\n",
              "      <td>0.0</td>\n",
              "      <td>40.0</td>\n",
              "      <td>Cuba</td>\n",
              "      <td>&lt;=50K</td>\n",
              "    </tr>\n",
              "  </tbody>\n",
              "</table>\n",
              "</div>"
            ],
            "text/plain": [
              "   age          workclass education_level  education-num       marital-status  \\\n",
              "0   39          State-gov       Bachelors           13.0        Never-married   \n",
              "1   50   Self-emp-not-inc       Bachelors           13.0   Married-civ-spouse   \n",
              "2   38            Private         HS-grad            9.0             Divorced   \n",
              "3   53            Private            11th            7.0   Married-civ-spouse   \n",
              "4   28            Private       Bachelors           13.0   Married-civ-spouse   \n",
              "\n",
              "           occupation    relationship    race      sex  capital-gain  \\\n",
              "0        Adm-clerical   Not-in-family   White     Male        2174.0   \n",
              "1     Exec-managerial         Husband   White     Male           0.0   \n",
              "2   Handlers-cleaners   Not-in-family   White     Male           0.0   \n",
              "3   Handlers-cleaners         Husband   Black     Male           0.0   \n",
              "4      Prof-specialty            Wife   Black   Female           0.0   \n",
              "\n",
              "   capital-loss  hours-per-week  native-country income  \n",
              "0           0.0            40.0   United-States  <=50K  \n",
              "1           0.0            13.0   United-States  <=50K  \n",
              "2           0.0            40.0   United-States  <=50K  \n",
              "3           0.0            40.0   United-States  <=50K  \n",
              "4           0.0            40.0            Cuba  <=50K  "
            ]
          },
          "metadata": {},
          "output_type": "display_data"
        }
      ],
      "source": [
        "# Import libraries necessary for this project\n",
        "import numpy as np\n",
        "import pandas as pd\n",
        "from time import time\n",
        "from IPython.display import display # Allows the use of display() for DataFrames\n",
        "\n",
        "# Import supplementary visualization code visuals.py\n",
        "import visuals as vs\n",
        "\n",
        "# Pretty display for notebooks\n",
        "%matplotlib inline\n",
        "\n",
        "# Load the Census dataset\n",
        "data = pd.read_csv(\"./data/census.csv\")\n",
        "\n",
        "# Success - Display the first record\n",
        "display(data.head(n=5))"
      ]
    },
    {
      "cell_type": "markdown",
      "metadata": {
        "id": "wSGn7NSm4g8B"
      },
      "source": [
        "### Question 1: Implementation: Data Exploration\n",
        "A cursory investigation of the dataset will determine how many individuals fit into either group, and will tell us about the percentage of these individuals making more than \\$50,000. In the code cell below, you will need to compute the following:\n",
        "- The total number of records, `'n_records'`\n",
        "- The number of individuals making more than \\$50,000 annually, `'n_greater_50k'`.\n",
        "- The number of individuals making at most \\$50,000 annually, `'n_at_most_50k'`.\n",
        "- The percentage of individuals making more than \\$50,000 annually, `'greater_percent'`.\n",
        "\n",
        "** HINT: ** You may need to look at the table above to understand how the `'income'` entries are formatted."
      ]
    },
    {
      "cell_type": "code",
      "execution_count": null,
      "metadata": {
        "id": "HGb6qviA4g8B",
        "tags": []
      },
      "outputs": [],
      "source": [
        "def data_exploration(data):\n",
        "    \"\"\"\n",
        "    Calculate the above described statistics of the data provided and return them in the same order.\n",
        "    Input: data (pd.DataFrame)\n",
        "    Output: (n_records, n_greater_50k, n_at_most_50k, greater_percent) -> Tuple of integers\n",
        "    \"\"\"\n",
        "    ...\n",
        "    return n_records, n_greater_50k, n_at_most_50k, greater_percent"
      ]
    },
    {
      "cell_type": "code",
      "execution_count": null,
      "metadata": {
        "deletable": false,
        "editable": false,
        "id": "vHDvriJPk5bu"
      },
      "outputs": [],
      "source": [
        "grader.check(\"q1.1\")"
      ]
    },
    {
      "cell_type": "markdown",
      "metadata": {
        "id": "lMPvdfuv4g8B",
        "tags": []
      },
      "source": [
        "----\n",
        "## Preparing the Data\n",
        "Before data can be used as input for machine learning algorithms, it often must be cleaned, formatted, and restructured — this is typically known as **preprocessing**. Fortunately, for this dataset, there are no invalid or missing entries we must deal with, however, there are some qualities about certain features that must be adjusted. This preprocessing can help tremendously with the outcome and predictive power of nearly all learning algorithms."
      ]
    },
    {
      "cell_type": "markdown",
      "metadata": {
        "id": "tNPCnBfI4g8C"
      },
      "source": [
        "### Transforming Skewed Continuous Features\n",
        "A dataset may sometimes contain at least one feature whose values tend to lie near a single number, but will also have a non-trivial number of vastly larger or smaller values than that single number.  Algorithms can be sensitive to such distributions of values and can underperform if the range is not properly normalized. With the census dataset two features fit this description: '`capital-gain'` and `'capital-loss'`.\n",
        "\n",
        "Run the code cell below to plot a histogram of these two features. Note the range of the values present and how they are distributed."
      ]
    },
    {
      "cell_type": "code",
      "execution_count": null,
      "metadata": {
        "id": "4TRm_bw14g8C"
      },
      "outputs": [],
      "source": [
        "# Split the data into features and target label\n",
        "income_raw = data['income']\n",
        "features_raw = data.drop('income', axis = 1)\n",
        "\n",
        "# Visualize skewed continuous features of original data\n",
        "vs.distribution(data)"
      ]
    },
    {
      "cell_type": "markdown",
      "metadata": {
        "id": "y_OdcKXA4g8C"
      },
      "source": [
        "For highly-skewed feature distributions such as `'capital-gain'` and `'capital-loss'`, it is common practice to apply a <a href=\"https://en.wikipedia.org/wiki/Data_transformation_(statistics)\">logarithmic transformation</a> on the data so that the very large and very small values do not negatively affect the performance of a learning algorithm. Using a logarithmic transformation significantly reduces the range of values caused by outliers. Care must be taken when applying this transformation however: The logarithm of `0` is undefined, so we must translate the values by a small amount above `0` to apply the the logarithm successfully. Use `np.log` for logarithmic transformation.\n",
        "\n",
        "Implement and run the code cell below to perform a transformation on the data and visualize the results. Again, note the range of values and how they are distributed."
      ]
    },
    {
      "cell_type": "code",
      "execution_count": null,
      "metadata": {
        "id": "zrgYTDTj4g8C",
        "tags": []
      },
      "outputs": [],
      "source": [
        "def log_transform(features_raw):\n",
        "    \"\"\"\n",
        "    Take the data and Log-transform the skewed features\n",
        "    Input: features_raw (pd.DataFrame)\n",
        "    Output: features_log_transformed (pd.DataFrame)\n",
        "    \"\"\"\n",
        "    ...\n",
        "    return features_log_transformed"
      ]
    },
    {
      "cell_type": "code",
      "execution_count": null,
      "metadata": {
        "deletable": false,
        "editable": false,
        "id": "aAQG-GAuk5bv"
      },
      "outputs": [],
      "source": [
        "grader.check(\"q2.1\")"
      ]
    },
    {
      "cell_type": "code",
      "execution_count": null,
      "metadata": {
        "id": "TuAnLu_nnT5R"
      },
      "outputs": [],
      "source": [
        "# Visualize the new log distributions\n",
        "vs.distribution(log_transform(features_raw), transformed = True)"
      ]
    },
    {
      "cell_type": "markdown",
      "metadata": {
        "id": "8BeNwG1u4g8C"
      },
      "source": [
        "### Normalizing Numerical Features\n",
        "In addition to performing transformations on features that are highly skewed, it is often good practice to perform some type of scaling on numerical features. Applying a scaling to the data does not change the shape of each feature's distribution (such as `'capital-gain'` or `'capital-loss'` above); however, normalization ensures that each feature is treated equally when applying supervised learners. Note that once scaling is applied, observing the data in its raw form will no longer have the same original meaning, as exampled below.\n",
        "\n",
        "Implement and run the code cell below to normalize each numerical feature. We will use [`sklearn.preprocessing.MinMaxScaler`](http://scikit-learn.org/stable/modules/generated/sklearn.preprocessing.MinMaxScaler.html) for this."
      ]
    },
    {
      "cell_type": "code",
      "execution_count": null,
      "metadata": {
        "id": "8yPByDErmhhr"
      },
      "outputs": [],
      "source": [
        "# Import sklearn.preprocessing.StandardScaler\n",
        "import sklearn\n",
        "from sklearn.preprocessing import MinMaxScaler"
      ]
    },
    {
      "cell_type": "code",
      "execution_count": null,
      "metadata": {
        "id": "RrskVukr4g8C",
        "tags": []
      },
      "outputs": [],
      "source": [
        "def normalize_features(features_raw):\n",
        "    \"\"\"\n",
        "    Take the input data and normalize the categorical features.\n",
        "    Input: features_raw (pd.DataFrame)\n",
        "    Output: features_log_minmax_transform (pd.DataFrame)\n",
        "    \"\"\"\n",
        "    features_log_transformed = log_transform(features_raw)\n",
        "    ...\n",
        "    return features_log_minmax_transform\n",
        "\n",
        "features_log_minmax_transform = normalize_features(features_raw)"
      ]
    },
    {
      "cell_type": "code",
      "execution_count": null,
      "metadata": {
        "deletable": false,
        "editable": false,
        "id": "A5NXBfP-k5bv"
      },
      "outputs": [],
      "source": [
        "grader.check(\"q3.1\")"
      ]
    },
    {
      "cell_type": "code",
      "execution_count": null,
      "metadata": {
        "id": "Dv78Gh6in8kO"
      },
      "outputs": [],
      "source": [
        "# Show an example of a record with scaling applied\n",
        "display(features_log_minmax_transform.head(n = 5))"
      ]
    },
    {
      "cell_type": "markdown",
      "metadata": {
        "id": "silh_A2C4g8C",
        "tags": []
      },
      "source": [
        "### Implementation: Data Preprocessing\n",
        "\n",
        "From the table in **Exploring the Data** above, we can see there are several features for each record that are non-numeric. Typically, learning algorithms expect input to be numeric, which requires that non-numeric features (called *categorical variables*) be converted. One popular way to convert categorical variables is by using the **one-hot encoding** scheme. One-hot encoding creates a _\"dummy\"_ variable for each possible category of each non-numeric feature. For example, assume `someFeature` has three possible entries: `A`, `B`, or `C`. We then encode this feature into `someFeature_A`, `someFeature_B` and `someFeature_C`.\n",
        "\n",
        "|   | someFeature |                    | someFeature_A | someFeature_B | someFeature_C |\n",
        "| :-: | :-: |                            | :-: | :-: | :-: |\n",
        "| 0 |  B  |  | 0 | 1 | 0 |\n",
        "| 1 |  C  | ----> one-hot encode ----> | 0 | 0 | 1 |\n",
        "| 2 |  A  |  | 1 | 0 | 0 |\n",
        "\n",
        "Additionally, as with the non-numeric features, we need to convert the non-numeric target label, `'income'` to numerical values for the learning algorithm to work. Since there are only two possible categories for this label (\"<=50K\" and \">50K\"), we can avoid using one-hot encoding and simply encode these two categories as `0` and `1`, respectively. In code cell below, you will need to implement the following:\n",
        " - Use [`pandas.get_dummies()`](http://pandas.pydata.org/pandas-docs/stable/generated/pandas.get_dummies.html?highlight=get_dummies#pandas.get_dummies) to perform one-hot encoding on the `'features_log_minmax_transform'` data.\n",
        " - Convert the target label `'income_raw'` to numerical entries.\n",
        "   - Set records with \"<=50K\" to `0` and records with \">50K\" to `1`."
      ]
    },
    {
      "cell_type": "code",
      "execution_count": null,
      "metadata": {
        "id": "a7711lTr4g8D",
        "scrolled": true,
        "tags": []
      },
      "outputs": [],
      "source": [
        "def one_hot_encoding(features_log_minmax_transform):\n",
        "    \"\"\"\n",
        "    One-hot encode the 'features_log_minmax_transform'.\n",
        "    Input: features_log_minmax_transform (pd.DataFrame)\n",
        "    Output: features_final (pd.DataFrame)\n",
        "    \"\"\"\n",
        "    ...\n",
        "    return  features_final"
      ]
    },
    {
      "cell_type": "code",
      "execution_count": null,
      "metadata": {
        "deletable": false,
        "editable": false,
        "id": "IrpJqFgCk5bv"
      },
      "outputs": [],
      "source": [
        "grader.check(\"q4.1\")"
      ]
    },
    {
      "cell_type": "code",
      "execution_count": null,
      "metadata": {
        "id": "kfwiHzAok5bv",
        "tags": []
      },
      "outputs": [],
      "source": [
        "def encode_label(income_raw):\n",
        "    \"\"\"\n",
        "    Encode the 'income_raw' data to numerical values.\n",
        "    Input: income_raw (pd.DataFrame)\n",
        "    Output: income (pd.DataFrame)\n",
        "    \"\"\"\n",
        "    ...\n",
        "    return income"
      ]
    },
    {
      "cell_type": "code",
      "execution_count": null,
      "metadata": {
        "deletable": false,
        "editable": false,
        "id": "jbzS6hMGk5bv"
      },
      "outputs": [],
      "source": [
        "grader.check(\"q4.2\")"
      ]
    },
    {
      "cell_type": "code",
      "execution_count": null,
      "metadata": {
        "id": "df2yFMwnk5bw"
      },
      "outputs": [],
      "source": [
        "features_final = one_hot_encoding(features_log_minmax_transform)\n",
        "income = encode_label(income_raw)\n",
        "\n",
        "# Print the number of features after one-hot encoding\n",
        "encoded = list(features_final.columns)\n",
        "print(\"{} total features after one-hot encoding.\".format(len(encoded)))"
      ]
    },
    {
      "cell_type": "markdown",
      "metadata": {
        "id": "MFIM46cW4g8D",
        "tags": []
      },
      "source": [
        "### Shuffle and Split Data\n",
        "Now all _categorical variables_ have been converted into numerical features, and all numerical features have been normalized. As always, we will now split the data (both features and their labels) into training and test sets. 80% of the data will be used for training and 20% for testing.\n",
        "\n",
        "Implement and run the code cells below to perform this split. Please use the random state of `0` in the `train_test_split`."
      ]
    },
    {
      "cell_type": "code",
      "execution_count": null,
      "metadata": {
        "id": "bkS7QdH_p_rZ"
      },
      "outputs": [],
      "source": [
        "# Import train_test_split\n",
        "from sklearn.model_selection import train_test_split"
      ]
    },
    {
      "cell_type": "code",
      "execution_count": null,
      "metadata": {
        "id": "CwhhkQvd4g8D",
        "tags": []
      },
      "outputs": [],
      "source": [
        "def data_splits(features_final, income):\n",
        "    \"\"\"\n",
        "    Split the 'features' and 'income' data into training and testing sets.\n",
        "    Input(s): features_final (pd.DataFrame), income (pd.DataFrame)\n",
        "    Output(s): X_train, X_test, y_train, y_test\n",
        "    \"\"\"\n",
        "    # Use random_state = 0 in the train_test_split\n",
        "    ...\n",
        "    return X_train, X_test, y_train, y_test\n",
        "\n",
        "X_train, X_test, y_train, y_test = data_splits(features_final, income)\n",
        "\n",
        "# Show the results of the split\n",
        "print(\"Training set has {} samples.\".format(X_train.shape[0]))\n",
        "print(\"Testing set has {} samples.\".format(X_test.shape[0]))"
      ]
    },
    {
      "cell_type": "code",
      "execution_count": null,
      "metadata": {
        "deletable": false,
        "editable": false,
        "id": "RsQDXELCk5bw"
      },
      "outputs": [],
      "source": [
        "grader.check(\"q5\")"
      ]
    },
    {
      "cell_type": "markdown",
      "metadata": {
        "id": "EPH79EbS4g8D"
      },
      "source": [
        "----\n",
        "## Evaluating Model Performance\n",
        "In this section, we will investigate four different algorithms, and determine which is best at modeling the data. Three of these algorithms will be supervised learners of your choice, and the fourth algorithm is known as a *naive predictor*."
      ]
    },
    {
      "cell_type": "markdown",
      "metadata": {
        "id": "G8CrUjKW4g8D"
      },
      "source": [
        "### Metrics and the Naive Predictor\n",
        "*CharityML*, equipped with their research, knows individuals that make more than \\$50,000 are most likely to donate to their charity. Because of this, *CharityML* is particularly interested in predicting who makes more than \\$50,000 accurately. It would seem that using **accuracy** as a metric for evaluating a particular model's performace would be appropriate. Additionally, identifying someone that *does not* make more than \\$50,000 as someone who does would be detrimental to *CharityML*, since they are looking to find individuals willing to donate. Therefore, a model's ability to precisely predict those that make more than \\$50,000 is *more important* than the model's ability to **recall** those individuals. We can use **F-beta score** as a metric that considers both precision and recall:\n",
        "\n",
        "$$ F_{\\beta} = (1 + \\beta^2) \\cdot \\frac{precision \\cdot recall}{\\left( \\beta^2 \\cdot precision \\right) + recall} $$\n",
        "\n",
        "In particular, when $\\beta = 0.5$, more emphasis is placed on precision. This is called the **F$_{0.5}$ score** (or F-score for simplicity).\n",
        "\n",
        "Looking at the distribution of classes (those who make at most\n",
        "\\$$50,000$ and those who make more), it's clear most individuals do not make more than \\$50,000. This can greatly affect **accuracy**, since we could simply say *\"this person does not make more than \\$50,000\"* and generally be right, without ever looking at the data! Making such a statement would be called **naive**, since we have not considered any information to substantiate the claim. It is always important to consider the *naive prediction* for your data, to help establish a benchmark for whether a model is performing well. That been said, using that prediction would be pointless: If we predicted all people made less than \\$50,000, *CharityML* would identify no one as donors.\n",
        "\n",
        "\n",
        "#### Note: Recap of accuracy, precision, recall\n",
        "\n",
        "** Accuracy ** measures how often the classifier makes the correct prediction. It’s the ratio of the number of correct predictions to the total number of predictions (the number of test data points).\n",
        "\n",
        "** Precision ** tells us what proportion of messages we classified as spam, actually were spam.\n",
        "It is a ratio of true positives(words classified as spam, and which are actually spam) to all positives(all words classified as spam, irrespective of whether that was the correct classificatio), in other words it is the ratio of\n",
        "\n",
        "`[True Positives/(True Positives + False Positives)]`\n",
        "\n",
        "** Recall(sensitivity)** tells us what proportion of messages that actually were spam were classified by us as spam.\n",
        "It is a ratio of true positives(words classified as spam, and which are actually spam) to all the words that were actually spam, in other words it is the ratio of\n",
        "\n",
        "`[True Positives/(True Positives + False Negatives)]`\n",
        "\n",
        "For classification problems that are skewed in their classification distributions like in our case, for example if we had a 100 text messages and only 2 were spam and the rest 98 weren't, accuracy by itself is not a very good metric. We could classify 90 messages as not spam(including the 2 that were spam but we classify them as not spam, hence they would be false negatives) and 10 as spam(all 10 false positives) and still get a reasonably good accuracy score. For such cases, precision and recall come in very handy. These two metrics can be combined to get the F1 score, which is weighted average(harmonic mean) of the precision and recall scores. This score can range from 0 to 1, with 1 being the best possible F1 score(we take the harmonic mean as we are dealing with ratios)."
      ]
    },
    {
      "cell_type": "markdown",
      "metadata": {
        "id": "ZCFCeRrZ4g8D"
      },
      "source": [
        "### Question 1 - Naive Predictor Performace\n",
        "* If we chose a model that always predicted an individual made more than $50,000, what would  that model's accuracy and F-score be on this dataset? You must use the code cell below and assign your results to `'accuracy'` and `'fscore'` to be used later.\n",
        "\n",
        "** Please note ** that the the purpose of generating a naive predictor is simply to show what a base model without any intelligence would look like. In the real world, ideally your base model would be either the results of a previous model or could be based on a research paper upon which you are looking to improve. When there is no benchmark model set, getting a result better than random choice is a place you could start from.\n",
        "\n",
        "** HINT: **\n",
        "\n",
        "* When we have a model that always predicts '1' (i.e. the individual makes more than 50k) then our model will have no True Negatives(TN) or False Negatives(FN) as we are not making any negative('0' value) predictions. Therefore our Accuracy in this case becomes the same as our Precision(True Positives/(True Positives + False Positives)) as every prediction that we have made with value '1' that should have '0' becomes a False Positive; therefore our denominator in this case is the total number of records we have in total.\n",
        "* Our Recall score(True Positives/(True Positives + False Negatives)) in this setting becomes 1 as we have no False Negatives.\n",
        "\n",
        "Implement and evaluate naive predictor on the above mentioned metrics in the code cell below."
      ]
    },
    {
      "cell_type": "code",
      "execution_count": null,
      "metadata": {
        "id": "MN2g3KIRr5wd"
      },
      "outputs": [],
      "source": [
        "from sklearn.metrics import accuracy_score, precision_score, recall_score, f1_score"
      ]
    },
    {
      "cell_type": "code",
      "execution_count": null,
      "metadata": {
        "id": "jEt0-lhk4g8E",
        "tags": []
      },
      "outputs": [],
      "source": [
        "def naive_predictor(income):\n",
        "    \"\"\"\n",
        "    Compute the Accuracy, Precision and Recall of a Naive Predictor based on a model that always predicts the individual to make more than $50,000.\n",
        "    \"\"\"\n",
        "\n",
        "    income_new=income.apply(lambda x:1)\n",
        "    income_new[0]\n",
        "\n",
        "    ### Follow the structure below\n",
        "\n",
        "    # # TODO: Calculate the False Negatives, True Positives and False Positives\n",
        "    # FN=\n",
        "    # TP=\n",
        "    # FP=\n",
        "\n",
        "\n",
        "    # # TODO: Calculate accuracy, precision and recall\n",
        "    # accuracy =\n",
        "    # recall =\n",
        "    # precision =\n",
        "\n",
        "    # # # # TODO: Calculate F-score using the formula above for beta = 0.5 and correct values for precision and recall.\n",
        "    # fscore =\n",
        "\n",
        "    ...\n",
        "    print(\"Naive Predictor: [Accuracy score: {:.4f}, F-score: {:.4f}]\".format(accuracy, fscore))\n",
        "\n",
        "    return fscore\n",
        "\n",
        "naive_predictor(income)"
      ]
    },
    {
      "cell_type": "code",
      "execution_count": null,
      "metadata": {
        "deletable": false,
        "editable": false,
        "id": "tnL6O9OKk5bw"
      },
      "outputs": [],
      "source": [
        "grader.check(\"q6\")"
      ]
    },
    {
      "cell_type": "markdown",
      "metadata": {
        "id": "if7GUQGy4g8E"
      },
      "source": [
        "###  Supervised Learning Models\n",
        "**The following are the supervised learning models that you are required to experiment with in this assignment:**\n",
        "- Decision Trees\n",
        "- Ensemble Methods (Bagging, *AdaBoost*, Random Forest, Gradient Boosting)\n",
        "- Support Vector Machines (SVM)"
      ]
    },
    {
      "cell_type": "markdown",
      "metadata": {
        "id": "jzvnFjUh4g8E"
      },
      "source": [
        "### Question 2 - Model Application\n"
      ]
    },
    {
      "cell_type": "markdown",
      "metadata": {
        "id": "ADtNup4y4g8E"
      },
      "source": [
        "### Implementation - Creating a Training and Predicting Pipeline\n",
        "To properly evaluate the performance of each model you've chosen, it's important that you create a training and predicting pipeline that allows you to quickly and effectively train models using various sizes of training data and perform predictions on the testing data. Your implementation here will be used in the following section.\n",
        "In the code block below, you will need to implement the following:\n",
        " - Import `fbeta_score` and `accuracy_score` from [`sklearn.metrics`](http://scikit-learn.org/stable/modules/classes.html#sklearn-metrics-metrics).\n",
        " - Fit the learner to the sampled training data and record the training time.\n",
        " - Perform predictions on the test data `X_test`, and also on the first 300 training points `X_train[:300]`.\n",
        "   - Record the total prediction time.\n",
        " - Calculate the accuracy score for both the training subset and testing set.\n",
        " - Calculate the F-score for both the training subset and testing set.\n",
        "   - Make sure that you set the `beta` parameter!"
      ]
    },
    {
      "cell_type": "markdown",
      "metadata": {
        "deletable": false,
        "editable": false,
        "id": "J4lG4rLhk5b4"
      },
      "source": [
        "<!-- BEGIN QUESTION -->\n",
        "\n"
      ]
    },
    {
      "cell_type": "code",
      "execution_count": null,
      "metadata": {
        "id": "eWShrFCk4g8E",
        "tags": []
      },
      "outputs": [],
      "source": [
        "# TODO: Import two metrics from sklearn - fbeta_score and accuracy_score\n",
        "from sklearn.metrics import fbeta_score, accuracy_score\n",
        "\n",
        "\n",
        "def train_predict(learner, sample_size, X_train, y_train, X_test, y_test):\n",
        "    '''\n",
        "    inputs:\n",
        "       - learner: the learning algorithm to be trained and predicted on\n",
        "       - sample_size: the size of samples (number) to be drawn from training set\n",
        "       - X_train: features training set\n",
        "       - y_train: income training set\n",
        "       - X_test: features testing set\n",
        "       - y_test: income testing set\n",
        "    '''\n",
        "    beta=0.5\n",
        "    results = {}\n",
        "\n",
        "    start = time() # Get start time\n",
        "    learner.fit(X_train[:300], y_train[:300])\n",
        "    end = time() # Get end time\n",
        "\n",
        "    results['train_time'] = end-start\n",
        "\n",
        "    start = time() # Get start time\n",
        "    predictions_test = learner.predict(X_test)\n",
        "    predictions_train = learner.predict(X_train[:300])\n",
        "    end = time() # Get end time\n",
        "\n",
        "    # TODO: Calculate the total prediction time\n",
        "    results['pred_time'] = end-start\n",
        "\n",
        "    # TODO: Compute accuracy on the first 300 training samples which is y_train[:300]\n",
        "    results['acc_train'] =\n",
        "\n",
        "    # TODO: Compute accuracy on test set using accuracy_score()\n",
        "    results['acc_test'] =\n",
        "\n",
        "    # TODO: Compute F-score on the the first 300 training samples using fbeta_score()\n",
        "    results['f_train'] =\n",
        "\n",
        "    # TODO: Compute F-score on the test set which is y_test\n",
        "    results['f_test'] =\n",
        "\n",
        "    # Success\n",
        "    print(\"{} trained on {} samples.\".format(learner.__class__.__name__, sample_size))\n",
        "\n",
        "    # Return the results\n",
        "    return results"
      ]
    },
    {
      "cell_type": "markdown",
      "metadata": {
        "deletable": false,
        "editable": false,
        "id": "Op7L_rjm4g8E"
      },
      "source": [
        "<!-- END QUESTION -->\n",
        "\n",
        "### Implementation: Initial Model Evaluation\n",
        "In the code cell, you will need to implement the following:\n",
        "- Import the three supervised learning models you've discussed in the previous section.\n",
        "- Initialize the three models and store them in `'clf_A'`, `'clf_B'`, and `'clf_C'`.\n",
        "  - Use a `'random_state'` for each model you use, if provided.\n",
        "  - **Note:** Use the default settings for each model — you will tune one specific model in a later section.\n",
        "- Calculate the number of records equal to 1%, 10%, and 100% of the training data.\n",
        "  - Store those values in `'samples_1'`, `'samples_10'`, and `'samples_100'` respectively.\n",
        "\n",
        "**Note:** Depending on which algorithms you chose, the following implementation may take some time to run!"
      ]
    },
    {
      "cell_type": "markdown",
      "metadata": {
        "deletable": false,
        "editable": false,
        "id": "y0tFzMnyk5b4"
      },
      "source": [
        "<!-- BEGIN QUESTION -->\n",
        "\n"
      ]
    },
    {
      "cell_type": "code",
      "execution_count": null,
      "metadata": {
        "id": "EMunw5dm4g8E",
        "tags": []
      },
      "outputs": [],
      "source": [
        "# TODO: Import the three supervised learning models from sklearn\n",
        "from sklearn.tree import DecisionTreeRegressor\n",
        "from sklearn.svm import SVC\n",
        "from sklearn.ensemble import AdaBoostClassifier\n",
        "\n",
        "# TODO: Initialize the three models\n",
        "clf_A =\n",
        "clf_B =\n",
        "clf_C =\n",
        "\n",
        "# TODO: Calculate the number of samples for 1%, 10%, and 100% of the training data\n",
        "# HINT: samples_100 is the entire training set i.e. len(y_train)\n",
        "# HINT: samples_10 is 10% of samples_100 (ensure to set the count of the values to be `int` and not `float`)\n",
        "# HINT: samples_1 is 1% of samples_100 (ensure to set the count of the values to be `int` and not `float`)\n",
        "samples_100 =\n",
        "samples_10 =\n",
        "samples_1 =\n",
        "\n",
        "# Collect results on the learners\n",
        "results = {}\n",
        "for clf in [clf_A, clf_B, clf_C]:\n",
        "    clf_name = clf.__class__.__name__\n",
        "    results[clf_name] = {}\n",
        "    for i, samples in enumerate([samples_1, samples_10, samples_100]):\n",
        "        results[clf_name][i] = \\\n",
        "        train_predict(clf, samples, X_train, y_train, X_test, y_test)\n",
        "\n",
        "# Run metrics visualization for the three supervised learning models chosen\n",
        "vs.evaluate(results, accuracy, fscore)"
      ]
    },
    {
      "cell_type": "markdown",
      "metadata": {
        "deletable": false,
        "editable": false,
        "id": "41E9eQbt4g8E",
        "tags": []
      },
      "source": [
        "<!-- END QUESTION -->\n",
        "\n",
        "----\n",
        "## Improving Results\n",
        "In this final section, you will choose from the three supervised learning models the *best* model to use on the student data. You will then perform a grid search optimization for the model over the entire training set (`X_train` and `y_train`) by tuning at least one parameter to improve upon the untuned model's F-score."
      ]
    },
    {
      "cell_type": "markdown",
      "metadata": {
        "id": "WCFrAFUF4g8E"
      },
      "source": [
        "### Question 3 - Choosing the Best Model"
      ]
    },
    {
      "cell_type": "markdown",
      "metadata": {
        "id": "IHbtryCS4g8F"
      },
      "source": [
        "### Implementation: Model Tuning\n",
        "Fine tune the chosen model. Use grid search (`GridSearchCV`) with at least one important parameter tuned with at least 3 different values. You will need to use the entire training set for this. In the code cell below, you will need to implement the following:\n",
        "- Import [`sklearn.model_selection.GridSearchCV`](https://scikit-learn.org/stable/modules/generated/sklearn.model_selection.GridSearchCV.html) and [`sklearn.metrics.make_scorer`](http://scikit-learn.org/stable/modules/generated/sklearn.metrics.make_scorer.html).\n",
        "- Initialize the classifier you've chosen and store it in `clf`.\n",
        " - Set a `random_state` if one is available to the same state you set before.\n",
        "- Create a dictionary of parameters you wish to tune for the chosen model.\n",
        " - Example: `parameters = {'parameter' : [list of values]}`.\n",
        " - **Note:** Avoid tuning the `max_features` parameter of your learner if that parameter is available!\n",
        "- Use `make_scorer` to create an `fbeta_score` scoring object (with $\\beta = 0.5$).\n",
        "- Perform grid search on the classifier `clf` using the `'scorer'`, and store it in `grid_obj`.\n",
        "- Fit the grid search object to the training data (`X_train`, `y_train`), and store it in `grid_fit`.\n",
        "\n",
        "**Note:** Depending on the algorithm chosen and the parameter list, the following implementation may take some time to run!"
      ]
    },
    {
      "cell_type": "markdown",
      "metadata": {
        "deletable": false,
        "editable": false,
        "id": "5HfDW0umk5b4"
      },
      "source": [
        "<!-- BEGIN QUESTION -->\n",
        "\n"
      ]
    },
    {
      "cell_type": "code",
      "execution_count": null,
      "metadata": {
        "id": "-Oo7zcF24g8J",
        "tags": []
      },
      "outputs": [],
      "source": [
        "# TODO: Import 'GridSearchCV', 'make_scorer', and any other necessary libraries\n",
        "from sklearn.model_selection import GridSearchCV\n",
        "from sklearn.metrics import make_scorer\n",
        "\n",
        "# TODO: Initialize the classifier\n",
        "clf =\n",
        "\n",
        "# TODO: Create the parameters list you wish to tune, using a dictionary if needed.\n",
        "# HINT: parameters = {'parameter_1': [value1, value2], 'parameter_2': [value1, value2]}\n",
        "parameters = {}\n",
        "\n",
        "# TODO: Make an fbeta_score scoring object using make_scorer()\n",
        "scorer =\n",
        "\n",
        "# TODO: Perform grid search on the classifier using 'scorer' as the scoring method using GridSearchCV()\n",
        "grid_obj =\n",
        "\n",
        "# TODO: Fit the grid search object to the training data and find the optimal parameters using fit()\n",
        "grid_fit =\n",
        "\n",
        "# Get the estimator\n",
        "best_clf =\n",
        "\n",
        "# Make predictions using the unoptimized and best model\n",
        "predictions =\n",
        "best_predictions =\n",
        "\n",
        "# Report the before-and-afterscores\n",
        "print(\"Unoptimized model\\n------\")\n",
        "print(\"Accuracy score on testing data: {:.4f}\".format(accuracy_score(y_test, predictions)))\n",
        "print(\"F-score on testing data: {:.4f}\".format(fbeta_score(y_test, predictions, beta = 0.5)))\n",
        "print(\"\\nOptimized Model\\n------\")\n",
        "print(\"Final accuracy score on the testing data: {:.4f}\".format(accuracy_score(y_test, best_predictions)))\n",
        "print(\"Final F-score on the testing data: {:.4f}\".format(fbeta_score(y_test, best_predictions, beta = 0.5)))"
      ]
    },
    {
      "cell_type": "markdown",
      "metadata": {
        "deletable": false,
        "editable": false,
        "id": "BR6wzz984g8K"
      },
      "source": [
        "<!-- END QUESTION -->\n",
        "\n",
        "### Question 4 - Final Model Evaluation\n",
        "\n",
        "* What is your optimized model's accuracy and F-score on the testing data?\n",
        "* Are these scores better or worse than the unoptimized model?\n",
        "* How do the results from your optimized model compare to the naive predictor benchmarks you found earlier in **Question 1**?_  \n",
        "\n",
        "**Note:** Fill in the table below with your results, and then provide discussion in the **Answer** box."
      ]
    },
    {
      "cell_type": "markdown",
      "metadata": {
        "deletable": false,
        "editable": false,
        "id": "pLjTUuby4g8K"
      },
      "source": [
        "<!-- BEGIN QUESTION -->\n",
        "\n",
        "#### Results:\n",
        "\n",
        "|     Metric     | Unoptimized Model | Optimized Model |\n",
        "| :------------: | :---------------: | :-------------: |\n",
        "| Accuracy Score |     %       |      %     |\n",
        "| F-score        |      %       |      %     |\n"
      ]
    },
    {
      "cell_type": "markdown",
      "metadata": {
        "id": "o-bFIHJS4g8K"
      },
      "source": [
        "**Answer: **"
      ]
    },
    {
      "cell_type": "markdown",
      "metadata": {
        "deletable": false,
        "editable": false,
        "id": "G4GazqI-k5b5"
      },
      "source": [
        "<!-- END QUESTION -->\n",
        "\n"
      ]
    }
  ],
  "metadata": {
    "colab": {
      "provenance": []
    },
    "kernelspec": {
      "display_name": "Python 3 (ipykernel)",
      "language": "python",
      "name": "python3"
    },
    "language_info": {
      "codemirror_mode": {
        "name": "ipython",
        "version": 3
      },
      "file_extension": ".py",
      "mimetype": "text/x-python",
      "name": "python",
      "nbconvert_exporter": "python",
      "pygments_lexer": "ipython3",
      "version": "3.11.6"
    }
  },
  "nbformat": 4,
  "nbformat_minor": 0
}
