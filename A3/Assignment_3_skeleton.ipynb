{
  "cells": [
    {
      "cell_type": "markdown",
      "metadata": {
        "id": "0D5RrI2k4g7-"
      },
      "source": [
        "## Assignment 3"
      ]
    },
    {
      "cell_type": "markdown",
      "metadata": {
        "id": "mYxqvSxQ4g8A"
      },
      "source": [
        "## Instructions\n",
        "* This is an individual assignment. You are not allowed to discuss the problems with other students.\n",
        "\n",
        "* Parts of this assignment will be autograded by gradescope. You can use it as immediate feedback to improve your answers. You can resubmit as many times as you want. Please also note that the **public tests are not exhaustive**, meaning that passing the public tests does not necessarily imply that your implementation is correct. It is recommended to test your implementation in your own ways instead of solely relying on the autograder.\n",
        "\n",
        "* All your solution, code, analysis, graphs, and explanations should be done in this same notebook.\n",
        "\n",
        "* Please make sure to execute all the cells before you submit the notebook to the gradescope. You will not get points for the plots if they are not generated already.\n",
        "\n",
        "* If you have questions regarding the assignment, you can ask for clarifications in Piazza. You should use the corresponding tag for this assignment.\n",
        "\n",
        "* Make sure to use Google Colab to avoid unnecessary issues. If you are having issues with Colab, try to restart your runtime ( Runtime -> Restart runtime ) and see if the issues persist.\n",
        "\n",
        "**Warning:** For this assignment, you are free to use libraries with general utilities, such as *numpy* and *pandas*, and you are expected to use pre-existing implementation of the algorithms available in *scikit-learn*.\n",
        "\n",
        "**When Submitting to GradeScope**: Be sure to\n",
        "1) Submit a `.ipynb` notebook to the `Assignment 3 - Programming` section on Gradescope.\n",
        "2) Submit a `pdf` version of the notebook to the `Assignment 3 - Analysis` entry. This should be the version of the `.ipynb` notebook with all the cells executed and corresponding graphs generated."
      ]
    },
    {
      "cell_type": "markdown",
      "metadata": {
        "id": "os5xXBLi4g8A"
      },
      "source": [
        "## Getting Started\n",
        "\n",
        "In this assignment, you will employ several supervised algorithms of your choice to accurately model individuals' income using data collected from the 1994 U.S. Census. You will then choose the best candidate algorithm from preliminary results and further optimize this algorithm to best model the data. Your goal with this implementation is to construct a model that accurately predicts whether an individual makes more than $50,000. This sort of task can arise in a non-profit setting, where organizations survive on donations.  Understanding an individual's income can help a non-profit better understand how large of a donation to request, or whether or not they should reach out to begin with.  While it can be difficult to determine an individual's general income bracket directly from public sources, we can (as we will see) infer this value from other publically available features.\n",
        "\n",
        "The dataset for this project originates from the [UCI Machine Learning Repository](https://archive.ics.uci.edu/ml/datasets/Census+Income). The datset was donated by Ron Kohavi and Barry Becker, after being published in the article _\"Scaling Up the Accuracy of Naive-Bayes Classifiers: A Decision-Tree Hybrid\"_. You can find the article by Ron Kohavi [online](https://www.aaai.org/Papers/KDD/1996/KDD96-033.pdf). The data we investigate here consists of small changes to the original dataset, such as removing the `'fnlwgt'` feature and records with missing or ill-formatted entries."
      ]
    },
    {
      "cell_type": "markdown",
      "metadata": {
        "id": "HDGxU1BCl__N"
      },
      "source": [
        "The next two cells install and initialize otter-grader. You should run these cells as they are WITHOUT modifying them!"
      ]
    },
    {
      "cell_type": "code",
      "execution_count": 16,
      "metadata": {
        "colab": {
          "base_uri": "https://localhost:8080/"
        },
        "id": "Mw2v-ZOjkWZR",
        "outputId": "d6fa3e15-acd0-46de-b507-1b1ec2eab513"
      },
      "outputs": [
        {
          "name": "stdout",
          "output_type": "stream",
          "text": [
            "Requirement already satisfied: otter-grader in c:\\users\\lomin\\onedrive\\desktop\\ml_assignments\\a3\\venv\\lib\\site-packages (5.2.2)\n",
            "Requirement already satisfied: dill in c:\\users\\lomin\\onedrive\\desktop\\ml_assignments\\a3\\venv\\lib\\site-packages (from otter-grader) (0.3.7)\n",
            "Requirement already satisfied: jinja2 in c:\\users\\lomin\\onedrive\\desktop\\ml_assignments\\a3\\venv\\lib\\site-packages (from otter-grader) (3.1.2)\n",
            "Requirement already satisfied: nbformat in c:\\users\\lomin\\onedrive\\desktop\\ml_assignments\\a3\\venv\\lib\\site-packages (from otter-grader) (5.9.2)\n",
            "Requirement already satisfied: pandas in c:\\users\\lomin\\onedrive\\desktop\\ml_assignments\\a3\\venv\\lib\\site-packages (from otter-grader) (2.1.2)\n",
            "Requirement already satisfied: PyYAML in c:\\users\\lomin\\onedrive\\desktop\\ml_assignments\\a3\\venv\\lib\\site-packages (from otter-grader) (6.0.1)\n",
            "Requirement already satisfied: python-on-whales in c:\\users\\lomin\\onedrive\\desktop\\ml_assignments\\a3\\venv\\lib\\site-packages (from otter-grader) (0.65.0)\n",
            "Requirement already satisfied: requests in c:\\users\\lomin\\onedrive\\desktop\\ml_assignments\\a3\\venv\\lib\\site-packages (from otter-grader) (2.31.0)\n",
            "Requirement already satisfied: wrapt in c:\\users\\lomin\\onedrive\\desktop\\ml_assignments\\a3\\venv\\lib\\site-packages (from otter-grader) (1.15.0)\n",
            "Requirement already satisfied: jupytext in c:\\users\\lomin\\onedrive\\desktop\\ml_assignments\\a3\\venv\\lib\\site-packages (from otter-grader) (1.15.2)\n",
            "Requirement already satisfied: click in c:\\users\\lomin\\onedrive\\desktop\\ml_assignments\\a3\\venv\\lib\\site-packages (from otter-grader) (8.1.7)\n",
            "Requirement already satisfied: fica>=0.3.0 in c:\\users\\lomin\\onedrive\\desktop\\ml_assignments\\a3\\venv\\lib\\site-packages (from otter-grader) (0.3.1)\n",
            "Requirement already satisfied: ipython in c:\\users\\lomin\\onedrive\\desktop\\ml_assignments\\a3\\venv\\lib\\site-packages (from otter-grader) (8.17.1)\n",
            "Requirement already satisfied: astunparse in c:\\users\\lomin\\onedrive\\desktop\\ml_assignments\\a3\\venv\\lib\\site-packages (from otter-grader) (1.6.3)\n",
            "Requirement already satisfied: ipywidgets in c:\\users\\lomin\\onedrive\\desktop\\ml_assignments\\a3\\venv\\lib\\site-packages (from otter-grader) (8.1.1)\n",
            "Requirement already satisfied: ipylab in c:\\users\\lomin\\onedrive\\desktop\\ml_assignments\\a3\\venv\\lib\\site-packages (from otter-grader) (1.0.0)\n",
            "Requirement already satisfied: nbconvert in c:\\users\\lomin\\onedrive\\desktop\\ml_assignments\\a3\\venv\\lib\\site-packages (from otter-grader) (7.10.0)\n",
            "Requirement already satisfied: docutils in c:\\users\\lomin\\onedrive\\desktop\\ml_assignments\\a3\\venv\\lib\\site-packages (from fica>=0.3.0->otter-grader) (0.20.1)\n",
            "Requirement already satisfied: sphinx in c:\\users\\lomin\\onedrive\\desktop\\ml_assignments\\a3\\venv\\lib\\site-packages (from fica>=0.3.0->otter-grader) (7.2.6)\n",
            "Requirement already satisfied: wheel<1.0,>=0.23.0 in c:\\users\\lomin\\onedrive\\desktop\\ml_assignments\\a3\\venv\\lib\\site-packages (from astunparse->otter-grader) (0.41.3)\n",
            "Requirement already satisfied: six<2.0,>=1.6.1 in c:\\users\\lomin\\onedrive\\desktop\\ml_assignments\\a3\\venv\\lib\\site-packages (from astunparse->otter-grader) (1.16.0)\n",
            "Requirement already satisfied: colorama in c:\\users\\lomin\\onedrive\\desktop\\ml_assignments\\a3\\venv\\lib\\site-packages (from click->otter-grader) (0.4.6)\n",
            "Requirement already satisfied: comm>=0.1.3 in c:\\users\\lomin\\onedrive\\desktop\\ml_assignments\\a3\\venv\\lib\\site-packages (from ipywidgets->otter-grader) (0.1.4)\n",
            "Requirement already satisfied: traitlets>=4.3.1 in c:\\users\\lomin\\onedrive\\desktop\\ml_assignments\\a3\\venv\\lib\\site-packages (from ipywidgets->otter-grader) (5.13.0)\n",
            "Requirement already satisfied: widgetsnbextension~=4.0.9 in c:\\users\\lomin\\onedrive\\desktop\\ml_assignments\\a3\\venv\\lib\\site-packages (from ipywidgets->otter-grader) (4.0.9)\n",
            "Requirement already satisfied: jupyterlab-widgets~=3.0.9 in c:\\users\\lomin\\onedrive\\desktop\\ml_assignments\\a3\\venv\\lib\\site-packages (from ipywidgets->otter-grader) (3.0.9)\n",
            "Requirement already satisfied: decorator in c:\\users\\lomin\\onedrive\\desktop\\ml_assignments\\a3\\venv\\lib\\site-packages (from ipython->otter-grader) (5.1.1)\n",
            "Requirement already satisfied: jedi>=0.16 in c:\\users\\lomin\\onedrive\\desktop\\ml_assignments\\a3\\venv\\lib\\site-packages (from ipython->otter-grader) (0.19.1)\n",
            "Requirement already satisfied: matplotlib-inline in c:\\users\\lomin\\onedrive\\desktop\\ml_assignments\\a3\\venv\\lib\\site-packages (from ipython->otter-grader) (0.1.6)\n",
            "Requirement already satisfied: prompt-toolkit!=3.0.37,<3.1.0,>=3.0.30 in c:\\users\\lomin\\onedrive\\desktop\\ml_assignments\\a3\\venv\\lib\\site-packages (from ipython->otter-grader) (3.0.39)\n",
            "Requirement already satisfied: pygments>=2.4.0 in c:\\users\\lomin\\onedrive\\desktop\\ml_assignments\\a3\\venv\\lib\\site-packages (from ipython->otter-grader) (2.16.1)\n",
            "Requirement already satisfied: stack-data in c:\\users\\lomin\\onedrive\\desktop\\ml_assignments\\a3\\venv\\lib\\site-packages (from ipython->otter-grader) (0.6.3)\n",
            "Requirement already satisfied: MarkupSafe>=2.0 in c:\\users\\lomin\\onedrive\\desktop\\ml_assignments\\a3\\venv\\lib\\site-packages (from jinja2->otter-grader) (2.1.3)\n",
            "Requirement already satisfied: toml in c:\\users\\lomin\\onedrive\\desktop\\ml_assignments\\a3\\venv\\lib\\site-packages (from jupytext->otter-grader) (0.10.2)\n",
            "Requirement already satisfied: markdown-it-py>=1.0.0 in c:\\users\\lomin\\onedrive\\desktop\\ml_assignments\\a3\\venv\\lib\\site-packages (from jupytext->otter-grader) (3.0.0)\n",
            "Requirement already satisfied: mdit-py-plugins in c:\\users\\lomin\\onedrive\\desktop\\ml_assignments\\a3\\venv\\lib\\site-packages (from jupytext->otter-grader) (0.4.0)\n",
            "Requirement already satisfied: beautifulsoup4 in c:\\users\\lomin\\onedrive\\desktop\\ml_assignments\\a3\\venv\\lib\\site-packages (from nbconvert->otter-grader) (4.12.2)\n",
            "Requirement already satisfied: bleach!=5.0.0 in c:\\users\\lomin\\onedrive\\desktop\\ml_assignments\\a3\\venv\\lib\\site-packages (from nbconvert->otter-grader) (6.1.0)\n",
            "Requirement already satisfied: defusedxml in c:\\users\\lomin\\onedrive\\desktop\\ml_assignments\\a3\\venv\\lib\\site-packages (from nbconvert->otter-grader) (0.7.1)\n",
            "Requirement already satisfied: jupyter-core>=4.7 in c:\\users\\lomin\\onedrive\\desktop\\ml_assignments\\a3\\venv\\lib\\site-packages (from nbconvert->otter-grader) (5.5.0)\n",
            "Requirement already satisfied: jupyterlab-pygments in c:\\users\\lomin\\onedrive\\desktop\\ml_assignments\\a3\\venv\\lib\\site-packages (from nbconvert->otter-grader) (0.2.2)\n",
            "Requirement already satisfied: mistune<4,>=2.0.3 in c:\\users\\lomin\\onedrive\\desktop\\ml_assignments\\a3\\venv\\lib\\site-packages (from nbconvert->otter-grader) (3.0.2)\n",
            "Requirement already satisfied: nbclient>=0.5.0 in c:\\users\\lomin\\onedrive\\desktop\\ml_assignments\\a3\\venv\\lib\\site-packages (from nbconvert->otter-grader) (0.8.0)\n",
            "Requirement already satisfied: packaging in c:\\users\\lomin\\onedrive\\desktop\\ml_assignments\\a3\\venv\\lib\\site-packages (from nbconvert->otter-grader) (23.2)\n",
            "Requirement already satisfied: pandocfilters>=1.4.1 in c:\\users\\lomin\\onedrive\\desktop\\ml_assignments\\a3\\venv\\lib\\site-packages (from nbconvert->otter-grader) (1.5.0)\n",
            "Requirement already satisfied: tinycss2 in c:\\users\\lomin\\onedrive\\desktop\\ml_assignments\\a3\\venv\\lib\\site-packages (from nbconvert->otter-grader) (1.2.1)\n",
            "Requirement already satisfied: fastjsonschema in c:\\users\\lomin\\onedrive\\desktop\\ml_assignments\\a3\\venv\\lib\\site-packages (from nbformat->otter-grader) (2.18.1)\n",
            "Requirement already satisfied: jsonschema>=2.6 in c:\\users\\lomin\\onedrive\\desktop\\ml_assignments\\a3\\venv\\lib\\site-packages (from nbformat->otter-grader) (4.19.2)\n",
            "Requirement already satisfied: numpy<2,>=1.23.2 in c:\\users\\lomin\\onedrive\\desktop\\ml_assignments\\a3\\venv\\lib\\site-packages (from pandas->otter-grader) (1.26.1)\n",
            "Requirement already satisfied: python-dateutil>=2.8.2 in c:\\users\\lomin\\onedrive\\desktop\\ml_assignments\\a3\\venv\\lib\\site-packages (from pandas->otter-grader) (2.8.2)\n",
            "Requirement already satisfied: pytz>=2020.1 in c:\\users\\lomin\\onedrive\\desktop\\ml_assignments\\a3\\venv\\lib\\site-packages (from pandas->otter-grader) (2023.3.post1)\n",
            "Requirement already satisfied: tzdata>=2022.1 in c:\\users\\lomin\\onedrive\\desktop\\ml_assignments\\a3\\venv\\lib\\site-packages (from pandas->otter-grader) (2023.3)\n",
            "Requirement already satisfied: pydantic!=2.0.*,<3,>=1.5 in c:\\users\\lomin\\onedrive\\desktop\\ml_assignments\\a3\\venv\\lib\\site-packages (from python-on-whales->otter-grader) (2.4.2)\n",
            "Requirement already satisfied: tqdm in c:\\users\\lomin\\onedrive\\desktop\\ml_assignments\\a3\\venv\\lib\\site-packages (from python-on-whales->otter-grader) (4.66.1)\n",
            "Requirement already satisfied: typer>=0.4.1 in c:\\users\\lomin\\onedrive\\desktop\\ml_assignments\\a3\\venv\\lib\\site-packages (from python-on-whales->otter-grader) (0.9.0)\n",
            "Requirement already satisfied: typing-extensions in c:\\users\\lomin\\onedrive\\desktop\\ml_assignments\\a3\\venv\\lib\\site-packages (from python-on-whales->otter-grader) (4.8.0)\n",
            "Requirement already satisfied: charset-normalizer<4,>=2 in c:\\users\\lomin\\onedrive\\desktop\\ml_assignments\\a3\\venv\\lib\\site-packages (from requests->otter-grader) (3.3.1)\n",
            "Requirement already satisfied: idna<4,>=2.5 in c:\\users\\lomin\\onedrive\\desktop\\ml_assignments\\a3\\venv\\lib\\site-packages (from requests->otter-grader) (3.4)\n",
            "Requirement already satisfied: urllib3<3,>=1.21.1 in c:\\users\\lomin\\onedrive\\desktop\\ml_assignments\\a3\\venv\\lib\\site-packages (from requests->otter-grader) (2.0.7)\n",
            "Requirement already satisfied: certifi>=2017.4.17 in c:\\users\\lomin\\onedrive\\desktop\\ml_assignments\\a3\\venv\\lib\\site-packages (from requests->otter-grader) (2023.7.22)\n",
            "Requirement already satisfied: webencodings in c:\\users\\lomin\\onedrive\\desktop\\ml_assignments\\a3\\venv\\lib\\site-packages (from bleach!=5.0.0->nbconvert->otter-grader) (0.5.1)\n",
            "Requirement already satisfied: parso<0.9.0,>=0.8.3 in c:\\users\\lomin\\onedrive\\desktop\\ml_assignments\\a3\\venv\\lib\\site-packages (from jedi>=0.16->ipython->otter-grader) (0.8.3)\n",
            "Requirement already satisfied: attrs>=22.2.0 in c:\\users\\lomin\\onedrive\\desktop\\ml_assignments\\a3\\venv\\lib\\site-packages (from jsonschema>=2.6->nbformat->otter-grader) (23.1.0)\n",
            "Requirement already satisfied: jsonschema-specifications>=2023.03.6 in c:\\users\\lomin\\onedrive\\desktop\\ml_assignments\\a3\\venv\\lib\\site-packages (from jsonschema>=2.6->nbformat->otter-grader) (2023.7.1)\n",
            "Requirement already satisfied: referencing>=0.28.4 in c:\\users\\lomin\\onedrive\\desktop\\ml_assignments\\a3\\venv\\lib\\site-packages (from jsonschema>=2.6->nbformat->otter-grader) (0.30.2)\n",
            "Requirement already satisfied: rpds-py>=0.7.1 in c:\\users\\lomin\\onedrive\\desktop\\ml_assignments\\a3\\venv\\lib\\site-packages (from jsonschema>=2.6->nbformat->otter-grader) (0.10.6)\n",
            "Requirement already satisfied: platformdirs>=2.5 in c:\\users\\lomin\\onedrive\\desktop\\ml_assignments\\a3\\venv\\lib\\site-packages (from jupyter-core>=4.7->nbconvert->otter-grader) (3.11.0)\n",
            "Requirement already satisfied: pywin32>=300 in c:\\users\\lomin\\onedrive\\desktop\\ml_assignments\\a3\\venv\\lib\\site-packages (from jupyter-core>=4.7->nbconvert->otter-grader) (306)\n",
            "Requirement already satisfied: mdurl~=0.1 in c:\\users\\lomin\\onedrive\\desktop\\ml_assignments\\a3\\venv\\lib\\site-packages (from markdown-it-py>=1.0.0->jupytext->otter-grader) (0.1.2)\n",
            "Requirement already satisfied: jupyter-client>=6.1.12 in c:\\users\\lomin\\onedrive\\desktop\\ml_assignments\\a3\\venv\\lib\\site-packages (from nbclient>=0.5.0->nbconvert->otter-grader) (8.5.0)\n",
            "Requirement already satisfied: wcwidth in c:\\users\\lomin\\onedrive\\desktop\\ml_assignments\\a3\\venv\\lib\\site-packages (from prompt-toolkit!=3.0.37,<3.1.0,>=3.0.30->ipython->otter-grader) (0.2.9)\n",
            "Requirement already satisfied: annotated-types>=0.4.0 in c:\\users\\lomin\\onedrive\\desktop\\ml_assignments\\a3\\venv\\lib\\site-packages (from pydantic!=2.0.*,<3,>=1.5->python-on-whales->otter-grader) (0.6.0)\n",
            "Requirement already satisfied: pydantic-core==2.10.1 in c:\\users\\lomin\\onedrive\\desktop\\ml_assignments\\a3\\venv\\lib\\site-packages (from pydantic!=2.0.*,<3,>=1.5->python-on-whales->otter-grader) (2.10.1)\n",
            "Requirement already satisfied: soupsieve>1.2 in c:\\users\\lomin\\onedrive\\desktop\\ml_assignments\\a3\\venv\\lib\\site-packages (from beautifulsoup4->nbconvert->otter-grader) (2.5)\n",
            "Requirement already satisfied: sphinxcontrib-applehelp in c:\\users\\lomin\\onedrive\\desktop\\ml_assignments\\a3\\venv\\lib\\site-packages (from sphinx->fica>=0.3.0->otter-grader) (1.0.7)\n",
            "Requirement already satisfied: sphinxcontrib-devhelp in c:\\users\\lomin\\onedrive\\desktop\\ml_assignments\\a3\\venv\\lib\\site-packages (from sphinx->fica>=0.3.0->otter-grader) (1.0.5)\n",
            "Requirement already satisfied: sphinxcontrib-jsmath in c:\\users\\lomin\\onedrive\\desktop\\ml_assignments\\a3\\venv\\lib\\site-packages (from sphinx->fica>=0.3.0->otter-grader) (1.0.1)\n",
            "Requirement already satisfied: sphinxcontrib-htmlhelp>=2.0.0 in c:\\users\\lomin\\onedrive\\desktop\\ml_assignments\\a3\\venv\\lib\\site-packages (from sphinx->fica>=0.3.0->otter-grader) (2.0.4)\n",
            "Requirement already satisfied: sphinxcontrib-serializinghtml>=1.1.9 in c:\\users\\lomin\\onedrive\\desktop\\ml_assignments\\a3\\venv\\lib\\site-packages (from sphinx->fica>=0.3.0->otter-grader) (1.1.9)\n",
            "Requirement already satisfied: sphinxcontrib-qthelp in c:\\users\\lomin\\onedrive\\desktop\\ml_assignments\\a3\\venv\\lib\\site-packages (from sphinx->fica>=0.3.0->otter-grader) (1.0.6)\n",
            "Requirement already satisfied: snowballstemmer>=2.0 in c:\\users\\lomin\\onedrive\\desktop\\ml_assignments\\a3\\venv\\lib\\site-packages (from sphinx->fica>=0.3.0->otter-grader) (2.2.0)\n",
            "Requirement already satisfied: babel>=2.9 in c:\\users\\lomin\\onedrive\\desktop\\ml_assignments\\a3\\venv\\lib\\site-packages (from sphinx->fica>=0.3.0->otter-grader) (2.13.1)\n",
            "Requirement already satisfied: alabaster<0.8,>=0.7 in c:\\users\\lomin\\onedrive\\desktop\\ml_assignments\\a3\\venv\\lib\\site-packages (from sphinx->fica>=0.3.0->otter-grader) (0.7.13)\n",
            "Requirement already satisfied: imagesize>=1.3 in c:\\users\\lomin\\onedrive\\desktop\\ml_assignments\\a3\\venv\\lib\\site-packages (from sphinx->fica>=0.3.0->otter-grader) (1.4.1)\n",
            "Requirement already satisfied: executing>=1.2.0 in c:\\users\\lomin\\onedrive\\desktop\\ml_assignments\\a3\\venv\\lib\\site-packages (from stack-data->ipython->otter-grader) (2.0.1)\n",
            "Requirement already satisfied: asttokens>=2.1.0 in c:\\users\\lomin\\onedrive\\desktop\\ml_assignments\\a3\\venv\\lib\\site-packages (from stack-data->ipython->otter-grader) (2.4.1)\n",
            "Requirement already satisfied: pure-eval in c:\\users\\lomin\\onedrive\\desktop\\ml_assignments\\a3\\venv\\lib\\site-packages (from stack-data->ipython->otter-grader) (0.2.2)\n",
            "Requirement already satisfied: pyzmq>=23.0 in c:\\users\\lomin\\onedrive\\desktop\\ml_assignments\\a3\\venv\\lib\\site-packages (from jupyter-client>=6.1.12->nbclient>=0.5.0->nbconvert->otter-grader) (25.1.1)\n",
            "Requirement already satisfied: tornado>=6.2 in c:\\users\\lomin\\onedrive\\desktop\\ml_assignments\\a3\\venv\\lib\\site-packages (from jupyter-client>=6.1.12->nbclient>=0.5.0->nbconvert->otter-grader) (6.3.3)\n"
          ]
        },
        {
          "name": "stderr",
          "output_type": "stream",
          "text": [
            "fatal: destination path 'public' already exists and is not an empty directory.\n"
          ]
        }
      ],
      "source": [
        "!pip install otter-grader\n",
        "!git clone https://github.com/chandar-lab/INF8245e-assignments-2023.git public"
      ]
    },
    {
      "cell_type": "code",
      "execution_count": 17,
      "metadata": {
        "colab": {
          "base_uri": "https://localhost:8080/"
        },
        "id": "y-_DB0Y2m1Ah",
        "outputId": "4159636d-ee7a-429e-9885-ff87b2365cf0"
      },
      "outputs": [
        {
          "name": "stdout",
          "output_type": "stream",
          "text": [
            "c:\\Users\\lomin\\OneDrive\\Desktop\\ML_assignments\\A3\\public\\a3\\public\\a3\n"
          ]
        }
      ],
      "source": [
        "%cd ./public/a3"
      ]
    },
    {
      "cell_type": "code",
      "execution_count": 18,
      "metadata": {
        "id": "3qR3Tx-ukfr6"
      },
      "outputs": [],
      "source": [
        "# Initialize Otter\n",
        "import otter\n",
        "grader = otter.Notebook(colab=True, tests_dir='./tests')"
      ]
    },
    {
      "cell_type": "markdown",
      "metadata": {
        "id": "3dvMBTAr4g8A",
        "tags": []
      },
      "source": [
        "----\n",
        "## Exploring the Data\n",
        "Run the code cell below to load necessary Python libraries and load the census data. Note that the last column from this dataset, `'income'`, will be our target label (whether an individual makes more than, or at most, $50,000 annually). All other columns are features about each individual in the census database."
      ]
    },
    {
      "cell_type": "code",
      "execution_count": 19,
      "metadata": {
        "colab": {
          "base_uri": "https://localhost:8080/",
          "height": 400
        },
        "id": "qKdSO_eb4g8A",
        "outputId": "ba177745-a295-4932-e5fa-a44b0ce389d5",
        "scrolled": true
      },
      "outputs": [
        {
          "data": {
            "text/html": [
              "<div>\n",
              "<style scoped>\n",
              "    .dataframe tbody tr th:only-of-type {\n",
              "        vertical-align: middle;\n",
              "    }\n",
              "\n",
              "    .dataframe tbody tr th {\n",
              "        vertical-align: top;\n",
              "    }\n",
              "\n",
              "    .dataframe thead th {\n",
              "        text-align: right;\n",
              "    }\n",
              "</style>\n",
              "<table border=\"1\" class=\"dataframe\">\n",
              "  <thead>\n",
              "    <tr style=\"text-align: right;\">\n",
              "      <th></th>\n",
              "      <th>age</th>\n",
              "      <th>workclass</th>\n",
              "      <th>education_level</th>\n",
              "      <th>education-num</th>\n",
              "      <th>marital-status</th>\n",
              "      <th>occupation</th>\n",
              "      <th>relationship</th>\n",
              "      <th>race</th>\n",
              "      <th>sex</th>\n",
              "      <th>capital-gain</th>\n",
              "      <th>capital-loss</th>\n",
              "      <th>hours-per-week</th>\n",
              "      <th>native-country</th>\n",
              "      <th>income</th>\n",
              "    </tr>\n",
              "  </thead>\n",
              "  <tbody>\n",
              "    <tr>\n",
              "      <th>0</th>\n",
              "      <td>39</td>\n",
              "      <td>State-gov</td>\n",
              "      <td>Bachelors</td>\n",
              "      <td>13.0</td>\n",
              "      <td>Never-married</td>\n",
              "      <td>Adm-clerical</td>\n",
              "      <td>Not-in-family</td>\n",
              "      <td>White</td>\n",
              "      <td>Male</td>\n",
              "      <td>2174.0</td>\n",
              "      <td>0.0</td>\n",
              "      <td>40.0</td>\n",
              "      <td>United-States</td>\n",
              "      <td>&lt;=50K</td>\n",
              "    </tr>\n",
              "    <tr>\n",
              "      <th>1</th>\n",
              "      <td>50</td>\n",
              "      <td>Self-emp-not-inc</td>\n",
              "      <td>Bachelors</td>\n",
              "      <td>13.0</td>\n",
              "      <td>Married-civ-spouse</td>\n",
              "      <td>Exec-managerial</td>\n",
              "      <td>Husband</td>\n",
              "      <td>White</td>\n",
              "      <td>Male</td>\n",
              "      <td>0.0</td>\n",
              "      <td>0.0</td>\n",
              "      <td>13.0</td>\n",
              "      <td>United-States</td>\n",
              "      <td>&lt;=50K</td>\n",
              "    </tr>\n",
              "    <tr>\n",
              "      <th>2</th>\n",
              "      <td>38</td>\n",
              "      <td>Private</td>\n",
              "      <td>HS-grad</td>\n",
              "      <td>9.0</td>\n",
              "      <td>Divorced</td>\n",
              "      <td>Handlers-cleaners</td>\n",
              "      <td>Not-in-family</td>\n",
              "      <td>White</td>\n",
              "      <td>Male</td>\n",
              "      <td>0.0</td>\n",
              "      <td>0.0</td>\n",
              "      <td>40.0</td>\n",
              "      <td>United-States</td>\n",
              "      <td>&lt;=50K</td>\n",
              "    </tr>\n",
              "    <tr>\n",
              "      <th>3</th>\n",
              "      <td>53</td>\n",
              "      <td>Private</td>\n",
              "      <td>11th</td>\n",
              "      <td>7.0</td>\n",
              "      <td>Married-civ-spouse</td>\n",
              "      <td>Handlers-cleaners</td>\n",
              "      <td>Husband</td>\n",
              "      <td>Black</td>\n",
              "      <td>Male</td>\n",
              "      <td>0.0</td>\n",
              "      <td>0.0</td>\n",
              "      <td>40.0</td>\n",
              "      <td>United-States</td>\n",
              "      <td>&lt;=50K</td>\n",
              "    </tr>\n",
              "    <tr>\n",
              "      <th>4</th>\n",
              "      <td>28</td>\n",
              "      <td>Private</td>\n",
              "      <td>Bachelors</td>\n",
              "      <td>13.0</td>\n",
              "      <td>Married-civ-spouse</td>\n",
              "      <td>Prof-specialty</td>\n",
              "      <td>Wife</td>\n",
              "      <td>Black</td>\n",
              "      <td>Female</td>\n",
              "      <td>0.0</td>\n",
              "      <td>0.0</td>\n",
              "      <td>40.0</td>\n",
              "      <td>Cuba</td>\n",
              "      <td>&lt;=50K</td>\n",
              "    </tr>\n",
              "  </tbody>\n",
              "</table>\n",
              "</div>"
            ],
            "text/plain": [
              "   age          workclass education_level  education-num       marital-status  \\\n",
              "0   39          State-gov       Bachelors           13.0        Never-married   \n",
              "1   50   Self-emp-not-inc       Bachelors           13.0   Married-civ-spouse   \n",
              "2   38            Private         HS-grad            9.0             Divorced   \n",
              "3   53            Private            11th            7.0   Married-civ-spouse   \n",
              "4   28            Private       Bachelors           13.0   Married-civ-spouse   \n",
              "\n",
              "           occupation    relationship    race      sex  capital-gain  \\\n",
              "0        Adm-clerical   Not-in-family   White     Male        2174.0   \n",
              "1     Exec-managerial         Husband   White     Male           0.0   \n",
              "2   Handlers-cleaners   Not-in-family   White     Male           0.0   \n",
              "3   Handlers-cleaners         Husband   Black     Male           0.0   \n",
              "4      Prof-specialty            Wife   Black   Female           0.0   \n",
              "\n",
              "   capital-loss  hours-per-week  native-country income  \n",
              "0           0.0            40.0   United-States  <=50K  \n",
              "1           0.0            13.0   United-States  <=50K  \n",
              "2           0.0            40.0   United-States  <=50K  \n",
              "3           0.0            40.0   United-States  <=50K  \n",
              "4           0.0            40.0            Cuba  <=50K  "
            ]
          },
          "metadata": {},
          "output_type": "display_data"
        }
      ],
      "source": [
        "# Import libraries necessary for this project\n",
        "import numpy as np\n",
        "import pandas as pd\n",
        "from time import time\n",
        "from IPython.display import display # Allows the use of display() for DataFrames\n",
        "\n",
        "# Import supplementary visualization code visuals.py\n",
        "import visuals as vs\n",
        "\n",
        "# Pretty display for notebooks\n",
        "%matplotlib inline\n",
        "\n",
        "# Load the Census dataset\n",
        "data = pd.read_csv(\"./data/census.csv\")\n",
        "\n",
        "# Success - Display the first record\n",
        "display(data.head(n=5))"
      ]
    },
    {
      "cell_type": "markdown",
      "metadata": {
        "id": "wSGn7NSm4g8B"
      },
      "source": [
        "### Question 1: Implementation: Data Exploration\n",
        "A cursory investigation of the dataset will determine how many individuals fit into either group, and will tell us about the percentage of these individuals making more than \\$50,000. In the code cell below, you will need to compute the following:\n",
        "- The total number of records, `'n_records'`\n",
        "- The number of individuals making more than \\$50,000 annually, `'n_greater_50k'`.\n",
        "- The number of individuals making at most \\$50,000 annually, `'n_at_most_50k'`.\n",
        "- The percentage of individuals making more than \\$50,000 annually, `'greater_percent'`.\n",
        "\n",
        "** HINT: ** You may need to look at the table above to understand how the `'income'` entries are formatted."
      ]
    },
    {
      "cell_type": "code",
      "execution_count": 20,
      "metadata": {
        "id": "HGb6qviA4g8B",
        "tags": []
      },
      "outputs": [],
      "source": [
        "def data_exploration(data):\n",
        "    \"\"\"\n",
        "    Calculate the above described statistics of the data provided and return them in the same order.\n",
        "    Input: data (pd.DataFrame)\n",
        "    Output: (n_records, n_greater_50k, n_at_most_50k, greater_percent) -> Tuple of integers\n",
        "    \"\"\"\n",
        "    n_records = data.shape[0]\n",
        "    n_greater_50k = len(data[data['income'] == '>50K'])\n",
        "    n_at_most_50k = len(data[data['income'] == '<=50K'])\n",
        "    greater_percent = (n_greater_50k / n_records) * 100\n",
        "    return n_records, n_greater_50k, n_at_most_50k, greater_percent"
      ]
    },
    {
      "cell_type": "code",
      "execution_count": 21,
      "metadata": {
        "colab": {
          "base_uri": "https://localhost:8080/",
          "height": 46
        },
        "deletable": false,
        "editable": false,
        "id": "vHDvriJPk5bu",
        "outputId": "0fd7075f-9027-47d6-cb63-82d3ba4ad06a"
      },
      "outputs": [
        {
          "data": {
            "text/html": [
              "<p><strong><pre style='display: inline;'>q1.1</pre></strong> passed! 🎉</p>"
            ],
            "text/plain": [
              "q1.1 results: All test cases passed!"
            ]
          },
          "execution_count": 21,
          "metadata": {},
          "output_type": "execute_result"
        }
      ],
      "source": [
        "grader.check(\"q1.1\")"
      ]
    },
    {
      "cell_type": "markdown",
      "metadata": {
        "id": "lMPvdfuv4g8B",
        "tags": []
      },
      "source": [
        "----\n",
        "## Preparing the Data\n",
        "Before data can be used as input for machine learning algorithms, it often must be cleaned, formatted, and restructured — this is typically known as **preprocessing**. Fortunately, for this dataset, there are no invalid or missing entries we must deal with, however, there are some qualities about certain features that must be adjusted. This preprocessing can help tremendously with the outcome and predictive power of nearly all learning algorithms."
      ]
    },
    {
      "cell_type": "markdown",
      "metadata": {
        "id": "tNPCnBfI4g8C"
      },
      "source": [
        "### Transforming Skewed Continuous Features\n",
        "A dataset may sometimes contain at least one feature whose values tend to lie near a single number, but will also have a non-trivial number of vastly larger or smaller values than that single number.  Algorithms can be sensitive to such distributions of values and can underperform if the range is not properly normalized. With the census dataset two features fit this description: '`capital-gain'` and `'capital-loss'`.\n",
        "\n",
        "Run the code cell below to plot a histogram of these two features. Note the range of the values present and how they are distributed."
      ]
    },
    {
      "cell_type": "code",
      "execution_count": 22,
      "metadata": {
        "colab": {
          "base_uri": "https://localhost:8080/",
          "height": 537
        },
        "id": "4TRm_bw14g8C",
        "outputId": "a8dfbd04-70fe-46a6-c0c3-d50b0da132d9"
      },
      "outputs": [
        {
          "name": "stderr",
          "output_type": "stream",
          "text": [
            "c:\\Users\\lomin\\OneDrive\\Desktop\\ML_assignments\\A3\\public\\a3\\public\\a3\\visuals.py:48: UserWarning: FigureCanvasAgg is non-interactive, and thus cannot be shown\n",
            "  fig.show()\n"
          ]
        },
        {
          "data": {
            "image/png": "[encoded data removed]",
            "text/plain": [
              "<Figure size 1100x500 with 2 Axes>"
            ]
          },
          "metadata": {},
          "output_type": "display_data"
        }
      ],
      "source": [
        "# Split the data into features and target label\n",
        "income_raw = data['income']\n",
        "features_raw = data.drop('income', axis = 1)\n",
        "\n",
        "# Visualize skewed continuous features of original data\n",
        "vs.distribution(data)"
      ]
    },
    {
      "cell_type": "markdown",
      "metadata": {
        "id": "y_OdcKXA4g8C"
      },
      "source": [
        "For highly-skewed feature distributions such as `'capital-gain'` and `'capital-loss'`, it is common practice to apply a <a href=\"https://en.wikipedia.org/wiki/Data_transformation_(statistics)\">logarithmic transformation</a> on the data so that the very large and very small values do not negatively affect the performance of a learning algorithm. Using a logarithmic transformation significantly reduces the range of values caused by outliers. Care must be taken when applying this transformation however: The logarithm of `0` is undefined, so we must translate the values by a small amount above `0` to apply the the logarithm successfully. Use `np.log` for logarithmic transformation.\n",
        "\n",
        "Implement and run the code cell below to perform a transformation on the data and visualize the results. Again, note the range of values and how they are distributed."
      ]
    },
    {
      "cell_type": "code",
      "execution_count": 23,
      "metadata": {
        "id": "zrgYTDTj4g8C",
        "tags": []
      },
      "outputs": [],
      "source": [
        "def log_transform(features_raw):\n",
        "    \"\"\"\n",
        "    Take the data and Log-transform the skewed features\n",
        "    Input: features_raw (pd.DataFrame)\n",
        "    Output: features_log_transformed (pd.DataFrame)\n",
        "    \"\"\"\n",
        "    small_amount_above_0 = 1\n",
        "    features_log_transformed = features_raw.copy()\n",
        "    features_log_transformed['capital-gain'] = features_log_transformed['capital-gain'].apply(lambda x: np.log(x + small_amount_above_0))\n",
        "    features_log_transformed['capital-loss'] = features_log_transformed['capital-loss'].apply(lambda x: np.log(x + small_amount_above_0))\n",
        "\n",
        "    return features_log_transformed"
      ]
    },
    {
      "cell_type": "code",
      "execution_count": 24,
      "metadata": {
        "colab": {
          "base_uri": "https://localhost:8080/",
          "height": 46
        },
        "deletable": false,
        "editable": false,
        "id": "aAQG-GAuk5bv",
        "outputId": "765f9e33-096b-4ef1-f168-536ef971afd9"
      },
      "outputs": [
        {
          "data": {
            "text/html": [
              "<p><strong><pre style='display: inline;'>q2.1</pre></strong> passed! 💯</p>"
            ],
            "text/plain": [
              "q2.1 results: All test cases passed!"
            ]
          },
          "execution_count": 24,
          "metadata": {},
          "output_type": "execute_result"
        }
      ],
      "source": [
        "grader.check(\"q2.1\")"
      ]
    },
    {
      "cell_type": "code",
      "execution_count": 25,
      "metadata": {
        "colab": {
          "base_uri": "https://localhost:8080/",
          "height": 537
        },
        "id": "TuAnLu_nnT5R",
        "outputId": "92f3cabe-91a9-477f-c4fb-066bd3d1d53f"
      },
      "outputs": [
        {
          "name": "stderr",
          "output_type": "stream",
          "text": [
            "c:\\Users\\lomin\\OneDrive\\Desktop\\ML_assignments\\A3\\public\\a3\\public\\a3\\visuals.py:48: UserWarning: FigureCanvasAgg is non-interactive, and thus cannot be shown\n",
            "  fig.show()\n"
          ]
        },
        {
          "data": {
            "image/png": "[encoded data removed]",
            "text/plain": [
              "<Figure size 1100x500 with 2 Axes>"
            ]
          },
          "metadata": {},
          "output_type": "display_data"
        }
      ],
      "source": [
        "# Visualize the new log distributions\n",
        "vs.distribution(log_transform(features_raw), transformed = True)"
      ]
    },
    {
      "cell_type": "markdown",
      "metadata": {
        "id": "8BeNwG1u4g8C"
      },
      "source": [
        "### Normalizing Numerical Features\n",
        "In addition to performing transformations on features that are highly skewed, it is often good practice to perform some type of scaling on numerical features. Applying a scaling to the data does not change the shape of each feature's distribution (such as `'capital-gain'` or `'capital-loss'` above); however, normalization ensures that each feature is treated equally when applying supervised learners. Note that once scaling is applied, observing the data in its raw form will no longer have the same original meaning, as exampled below.\n",
        "\n",
        "Implement and run the code cell below to normalize each numerical feature. We will use [`sklearn.preprocessing.MinMaxScaler`](http://scikit-learn.org/stable/modules/generated/sklearn.preprocessing.MinMaxScaler.html) for this."
      ]
    },
    {
      "cell_type": "code",
      "execution_count": 26,
      "metadata": {
        "id": "8yPByDErmhhr"
      },
      "outputs": [],
      "source": [
        "# Import sklearn.preprocessing.StandardScaler\n",
        "import sklearn\n",
        "from sklearn.preprocessing import MinMaxScaler"
      ]
    },
    {
      "cell_type": "code",
      "execution_count": 27,
      "metadata": {
        "id": "RrskVukr4g8C",
        "tags": []
      },
      "outputs": [],
      "source": [
        "def normalize_features(features_raw):\n",
        "    \"\"\"\n",
        "    Take the input data and normalize the categorical features.\n",
        "    Input: features_raw (pd.DataFrame)\n",
        "    Output: features_log_minmax_transform (pd.DataFrame)\n",
        "    \"\"\"\n",
        "    features_log_transformed = log_transform(features_raw)\n",
        "\n",
        "    numerical_columns = features_log_transformed.select_dtypes(include=[np.number]).columns\n",
        "    features_numerical = features_log_transformed[numerical_columns]\n",
        "    scaler = MinMaxScaler()\n",
        "    features_minmax_transformed = pd.DataFrame(scaler.fit_transform(features_numerical), columns=numerical_columns)\n",
        "    features_non_numerical = features_raw.drop(columns=numerical_columns)\n",
        "    features_log_minmax_transform = pd.concat([features_minmax_transformed, features_non_numerical], axis=1)\n",
        "\n",
        "    return features_log_minmax_transform\n",
        "\n",
        "features_log_minmax_transform = normalize_features(features_raw)"
      ]
    },
    {
      "cell_type": "code",
      "execution_count": 28,
      "metadata": {
        "colab": {
          "base_uri": "https://localhost:8080/",
          "height": 46
        },
        "deletable": false,
        "editable": false,
        "id": "A5NXBfP-k5bv",
        "outputId": "738abc41-137c-414b-efd3-d581510b41bf"
      },
      "outputs": [
        {
          "data": {
            "text/html": [
              "<p><strong><pre style='display: inline;'>q3.1</pre></strong> passed! 🍀</p>"
            ],
            "text/plain": [
              "q3.1 results: All test cases passed!"
            ]
          },
          "execution_count": 28,
          "metadata": {},
          "output_type": "execute_result"
        }
      ],
      "source": [
        "grader.check(\"q3.1\")"
      ]
    },
    {
      "cell_type": "code",
      "execution_count": 29,
      "metadata": {
        "colab": {
          "base_uri": "https://localhost:8080/",
          "height": 400
        },
        "id": "Dv78Gh6in8kO",
        "outputId": "8908d048-bb14-4f09-8447-1609e4b83d11"
      },
      "outputs": [
        {
          "data": {
            "text/html": [
              "<div>\n",
              "<style scoped>\n",
              "    .dataframe tbody tr th:only-of-type {\n",
              "        vertical-align: middle;\n",
              "    }\n",
              "\n",
              "    .dataframe tbody tr th {\n",
              "        vertical-align: top;\n",
              "    }\n",
              "\n",
              "    .dataframe thead th {\n",
              "        text-align: right;\n",
              "    }\n",
              "</style>\n",
              "<table border=\"1\" class=\"dataframe\">\n",
              "  <thead>\n",
              "    <tr style=\"text-align: right;\">\n",
              "      <th></th>\n",
              "      <th>age</th>\n",
              "      <th>education-num</th>\n",
              "      <th>capital-gain</th>\n",
              "      <th>capital-loss</th>\n",
              "      <th>hours-per-week</th>\n",
              "      <th>workclass</th>\n",
              "      <th>education_level</th>\n",
              "      <th>marital-status</th>\n",
              "      <th>occupation</th>\n",
              "      <th>relationship</th>\n",
              "      <th>race</th>\n",
              "      <th>sex</th>\n",
              "      <th>native-country</th>\n",
              "    </tr>\n",
              "  </thead>\n",
              "  <tbody>\n",
              "    <tr>\n",
              "      <th>0</th>\n",
              "      <td>0.301370</td>\n",
              "      <td>0.800000</td>\n",
              "      <td>0.667492</td>\n",
              "      <td>0.0</td>\n",
              "      <td>0.397959</td>\n",
              "      <td>State-gov</td>\n",
              "      <td>Bachelors</td>\n",
              "      <td>Never-married</td>\n",
              "      <td>Adm-clerical</td>\n",
              "      <td>Not-in-family</td>\n",
              "      <td>White</td>\n",
              "      <td>Male</td>\n",
              "      <td>United-States</td>\n",
              "    </tr>\n",
              "    <tr>\n",
              "      <th>1</th>\n",
              "      <td>0.452055</td>\n",
              "      <td>0.800000</td>\n",
              "      <td>0.000000</td>\n",
              "      <td>0.0</td>\n",
              "      <td>0.122449</td>\n",
              "      <td>Self-emp-not-inc</td>\n",
              "      <td>Bachelors</td>\n",
              "      <td>Married-civ-spouse</td>\n",
              "      <td>Exec-managerial</td>\n",
              "      <td>Husband</td>\n",
              "      <td>White</td>\n",
              "      <td>Male</td>\n",
              "      <td>United-States</td>\n",
              "    </tr>\n",
              "    <tr>\n",
              "      <th>2</th>\n",
              "      <td>0.287671</td>\n",
              "      <td>0.533333</td>\n",
              "      <td>0.000000</td>\n",
              "      <td>0.0</td>\n",
              "      <td>0.397959</td>\n",
              "      <td>Private</td>\n",
              "      <td>HS-grad</td>\n",
              "      <td>Divorced</td>\n",
              "      <td>Handlers-cleaners</td>\n",
              "      <td>Not-in-family</td>\n",
              "      <td>White</td>\n",
              "      <td>Male</td>\n",
              "      <td>United-States</td>\n",
              "    </tr>\n",
              "    <tr>\n",
              "      <th>3</th>\n",
              "      <td>0.493151</td>\n",
              "      <td>0.400000</td>\n",
              "      <td>0.000000</td>\n",
              "      <td>0.0</td>\n",
              "      <td>0.397959</td>\n",
              "      <td>Private</td>\n",
              "      <td>11th</td>\n",
              "      <td>Married-civ-spouse</td>\n",
              "      <td>Handlers-cleaners</td>\n",
              "      <td>Husband</td>\n",
              "      <td>Black</td>\n",
              "      <td>Male</td>\n",
              "      <td>United-States</td>\n",
              "    </tr>\n",
              "    <tr>\n",
              "      <th>4</th>\n",
              "      <td>0.150685</td>\n",
              "      <td>0.800000</td>\n",
              "      <td>0.000000</td>\n",
              "      <td>0.0</td>\n",
              "      <td>0.397959</td>\n",
              "      <td>Private</td>\n",
              "      <td>Bachelors</td>\n",
              "      <td>Married-civ-spouse</td>\n",
              "      <td>Prof-specialty</td>\n",
              "      <td>Wife</td>\n",
              "      <td>Black</td>\n",
              "      <td>Female</td>\n",
              "      <td>Cuba</td>\n",
              "    </tr>\n",
              "  </tbody>\n",
              "</table>\n",
              "</div>"
            ],
            "text/plain": [
              "        age  education-num  capital-gain  capital-loss  hours-per-week  \\\n",
              "0  0.301370       0.800000      0.667492           0.0        0.397959   \n",
              "1  0.452055       0.800000      0.000000           0.0        0.122449   \n",
              "2  0.287671       0.533333      0.000000           0.0        0.397959   \n",
              "3  0.493151       0.400000      0.000000           0.0        0.397959   \n",
              "4  0.150685       0.800000      0.000000           0.0        0.397959   \n",
              "\n",
              "           workclass education_level       marital-status          occupation  \\\n",
              "0          State-gov       Bachelors        Never-married        Adm-clerical   \n",
              "1   Self-emp-not-inc       Bachelors   Married-civ-spouse     Exec-managerial   \n",
              "2            Private         HS-grad             Divorced   Handlers-cleaners   \n",
              "3            Private            11th   Married-civ-spouse   Handlers-cleaners   \n",
              "4            Private       Bachelors   Married-civ-spouse      Prof-specialty   \n",
              "\n",
              "     relationship    race      sex  native-country  \n",
              "0   Not-in-family   White     Male   United-States  \n",
              "1         Husband   White     Male   United-States  \n",
              "2   Not-in-family   White     Male   United-States  \n",
              "3         Husband   Black     Male   United-States  \n",
              "4            Wife   Black   Female            Cuba  "
            ]
          },
          "metadata": {},
          "output_type": "display_data"
        }
      ],
      "source": [
        "# Show an example of a record with scaling applied\n",
        "display(features_log_minmax_transform.head(n = 5))"
      ]
    },
    {
      "cell_type": "markdown",
      "metadata": {
        "id": "silh_A2C4g8C",
        "tags": []
      },
      "source": [
        "### Implementation: Data Preprocessing\n",
        "\n",
        "From the table in **Exploring the Data** above, we can see there are several features for each record that are non-numeric. Typically, learning algorithms expect input to be numeric, which requires that non-numeric features (called *categorical variables*) be converted. One popular way to convert categorical variables is by using the **one-hot encoding** scheme. One-hot encoding creates a _\"dummy\"_ variable for each possible category of each non-numeric feature. For example, assume `someFeature` has three possible entries: `A`, `B`, or `C`. We then encode this feature into `someFeature_A`, `someFeature_B` and `someFeature_C`.\n",
        "\n",
        "|   | someFeature |                    | someFeature_A | someFeature_B | someFeature_C |\n",
        "| :-: | :-: |                            | :-: | :-: | :-: |\n",
        "| 0 |  B  |  | 0 | 1 | 0 |\n",
        "| 1 |  C  | ----> one-hot encode ----> | 0 | 0 | 1 |\n",
        "| 2 |  A  |  | 1 | 0 | 0 |\n",
        "\n",
        "Additionally, as with the non-numeric features, we need to convert the non-numeric target label, `'income'` to numerical values for the learning algorithm to work. Since there are only two possible categories for this label (\"<=50K\" and \">50K\"), we can avoid using one-hot encoding and simply encode these two categories as `0` and `1`, respectively. In code cell below, you will need to implement the following:\n",
        " - Use [`pandas.get_dummies()`](http://pandas.pydata.org/pandas-docs/stable/generated/pandas.get_dummies.html?highlight=get_dummies#pandas.get_dummies) to perform one-hot encoding on the `'features_log_minmax_transform'` data.\n",
        " - Convert the target label `'income_raw'` to numerical entries.\n",
        "   - Set records with \"<=50K\" to `0` and records with \">50K\" to `1`."
      ]
    },
    {
      "cell_type": "code",
      "execution_count": 30,
      "metadata": {
        "id": "a7711lTr4g8D",
        "scrolled": true,
        "tags": []
      },
      "outputs": [],
      "source": [
        "def one_hot_encoding(features_log_minmax_transform):\n",
        "    \"\"\"\n",
        "    One-hot encode the 'features_log_minmax_transform'.\n",
        "    Input: features_log_minmax_transform (pd.DataFrame)\n",
        "    Output: features_final (pd.DataFrame)\n",
        "    \"\"\"\n",
        "    features_final = pd.get_dummies(features_log_minmax_transform)\n",
        "    return  features_final"
      ]
    },
    {
      "cell_type": "code",
      "execution_count": 31,
      "metadata": {
        "colab": {
          "base_uri": "https://localhost:8080/",
          "height": 46
        },
        "deletable": false,
        "editable": false,
        "id": "IrpJqFgCk5bv",
        "outputId": "569b3427-5e14-47e4-9520-abccb204a5a3"
      },
      "outputs": [
        {
          "data": {
            "text/html": [
              "<p><strong><pre style='display: inline;'>q4.1</pre></strong> passed! 🎉</p>"
            ],
            "text/plain": [
              "q4.1 results: All test cases passed!"
            ]
          },
          "execution_count": 31,
          "metadata": {},
          "output_type": "execute_result"
        }
      ],
      "source": [
        "grader.check(\"q4.1\")"
      ]
    },
    {
      "cell_type": "code",
      "execution_count": 32,
      "metadata": {
        "id": "kfwiHzAok5bv",
        "tags": []
      },
      "outputs": [],
      "source": [
        "def encode_label(income_raw):\n",
        "    \"\"\"\n",
        "    Encode the 'income_raw' data to numerical values.\n",
        "    Input: income_raw (pd.DataFrame)\n",
        "    Output: income (pd.DataFrame)\n",
        "    \"\"\"\n",
        "    income = income_raw.map({'<=50K': 0, '>50K': 1})\n",
        "    return income"
      ]
    },
    {
      "cell_type": "code",
      "execution_count": 33,
      "metadata": {
        "colab": {
          "base_uri": "https://localhost:8080/",
          "height": 46
        },
        "deletable": false,
        "editable": false,
        "id": "jbzS6hMGk5bv",
        "outputId": "844f8dfc-72e5-46b6-849d-8cd19fa480f8"
      },
      "outputs": [
        {
          "data": {
            "text/html": [
              "<p><strong><pre style='display: inline;'>q4.2</pre></strong> passed! 🍀</p>"
            ],
            "text/plain": [
              "q4.2 results: All test cases passed!"
            ]
          },
          "execution_count": 33,
          "metadata": {},
          "output_type": "execute_result"
        }
      ],
      "source": [
        "grader.check(\"q4.2\")"
      ]
    },
    {
      "cell_type": "code",
      "execution_count": 34,
      "metadata": {
        "colab": {
          "base_uri": "https://localhost:8080/"
        },
        "id": "df2yFMwnk5bw",
        "outputId": "57ccb491-3e62-4cb2-a841-9692cfc336cd"
      },
      "outputs": [
        {
          "name": "stdout",
          "output_type": "stream",
          "text": [
            "103 total features after one-hot encoding.\n"
          ]
        }
      ],
      "source": [
        "features_final = one_hot_encoding(features_log_minmax_transform)\n",
        "income = encode_label(income_raw)\n",
        "\n",
        "# Print the number of features after one-hot encoding\n",
        "encoded = list(features_final.columns)\n",
        "print(\"{} total features after one-hot encoding.\".format(len(encoded)))"
      ]
    },
    {
      "cell_type": "markdown",
      "metadata": {
        "id": "MFIM46cW4g8D",
        "tags": []
      },
      "source": [
        "### Shuffle and Split Data\n",
        "Now all _categorical variables_ have been converted into numerical features, and all numerical features have been normalized. As always, we will now split the data (both features and their labels) into training and test sets. 80% of the data will be used for training and 20% for testing.\n",
        "\n",
        "Implement and run the code cells below to perform this split. Please use the random state of `0` in the `train_test_split`."
      ]
    },
    {
      "cell_type": "code",
      "execution_count": 35,
      "metadata": {
        "id": "bkS7QdH_p_rZ"
      },
      "outputs": [],
      "source": [
        "# Import train_test_split\n",
        "from sklearn.model_selection import train_test_split"
      ]
    },
    {
      "cell_type": "code",
      "execution_count": 36,
      "metadata": {
        "colab": {
          "base_uri": "https://localhost:8080/"
        },
        "id": "CwhhkQvd4g8D",
        "outputId": "1033e38d-583d-4028-fcbc-bed401ccc19e",
        "tags": []
      },
      "outputs": [
        {
          "name": "stdout",
          "output_type": "stream",
          "text": [
            "Training set has 36177 samples.\n",
            "Testing set has 9045 samples.\n"
          ]
        }
      ],
      "source": [
        "def data_splits(features_final, income):\n",
        "    \"\"\"\n",
        "    Split the 'features' and 'income' data into training and testing sets.\n",
        "    Input(s): features_final (pd.DataFrame), income (pd.DataFrame)\n",
        "    Output(s): X_train, X_test, y_train, y_test\n",
        "    \"\"\"\n",
        "    # Use random_state = 0 in the train_test_split\n",
        "    X_train, X_test, y_train, y_test = train_test_split(features_final, income, test_size=0.2, random_state=0)\n",
        "    return X_train, X_test, y_train, y_test\n",
        "\n",
        "X_train, X_test, y_train, y_test = data_splits(features_final, income)\n",
        "\n",
        "# Show the results of the split\n",
        "print(\"Training set has {} samples.\".format(X_train.shape[0]))\n",
        "print(\"Testing set has {} samples.\".format(X_test.shape[0]))"
      ]
    },
    {
      "cell_type": "code",
      "execution_count": 37,
      "metadata": {
        "colab": {
          "base_uri": "https://localhost:8080/",
          "height": 46
        },
        "deletable": false,
        "editable": false,
        "id": "RsQDXELCk5bw",
        "outputId": "3798e1cd-25c6-4320-8f33-924e4d4c10f4"
      },
      "outputs": [
        {
          "data": {
            "text/html": [
              "<p><strong><pre style='display: inline;'>q5</pre></strong> passed! 🚀</p>"
            ],
            "text/plain": [
              "q5 results: All test cases passed!"
            ]
          },
          "execution_count": 37,
          "metadata": {},
          "output_type": "execute_result"
        }
      ],
      "source": [
        "grader.check(\"q5\")"
      ]
    },
    {
      "cell_type": "markdown",
      "metadata": {
        "id": "EPH79EbS4g8D"
      },
      "source": [
        "----\n",
        "## Evaluating Model Performance\n",
        "In this section, we will investigate four different algorithms, and determine which is best at modeling the data. Three of these algorithms will be supervised learners of your choice, and the fourth algorithm is known as a *naive predictor*."
      ]
    },
    {
      "cell_type": "markdown",
      "metadata": {
        "id": "G8CrUjKW4g8D"
      },
      "source": [
        "### Metrics and the Naive Predictor\n",
        "*CharityML*, equipped with their research, knows individuals that make more than \\$50,000 are most likely to donate to their charity. Because of this, *CharityML* is particularly interested in predicting who makes more than \\$50,000 accurately. It would seem that using **accuracy** as a metric for evaluating a particular model's performace would be appropriate. Additionally, identifying someone that *does not* make more than \\$50,000 as someone who does would be detrimental to *CharityML*, since they are looking to find individuals willing to donate. Therefore, a model's ability to precisely predict those that make more than \\$50,000 is *more important* than the model's ability to **recall** those individuals. We can use **F-beta score** as a metric that considers both precision and recall:\n",
        "\n",
        "$$ F_{\\beta} = (1 + \\beta^2) \\cdot \\frac{precision \\cdot recall}{\\left( \\beta^2 \\cdot precision \\right) + recall} $$\n",
        "\n",
        "In particular, when $\\beta = 0.5$, more emphasis is placed on precision. This is called the **F$_{0.5}$ score** (or F-score for simplicity).\n",
        "\n",
        "Looking at the distribution of classes (those who make at most\n",
        "\\$$50,000$ and those who make more), it's clear most individuals do not make more than \\$50,000. This can greatly affect **accuracy**, since we could simply say *\"this person does not make more than \\$50,000\"* and generally be right, without ever looking at the data! Making such a statement would be called **naive**, since we have not considered any information to substantiate the claim. It is always important to consider the *naive prediction* for your data, to help establish a benchmark for whether a model is performing well. That been said, using that prediction would be pointless: If we predicted all people made less than \\$50,000, *CharityML* would identify no one as donors.\n",
        "\n",
        "\n",
        "#### Note: Recap of accuracy, precision, recall\n",
        "\n",
        "** Accuracy ** measures how often the classifier makes the correct prediction. It’s the ratio of the number of correct predictions to the total number of predictions (the number of test data points).\n",
        "\n",
        "** Precision ** tells us what proportion of messages we classified as spam, actually were spam.\n",
        "It is a ratio of true positives(words classified as spam, and which are actually spam) to all positives(all words classified as spam, irrespective of whether that was the correct classificatio), in other words it is the ratio of\n",
        "\n",
        "`[True Positives/(True Positives + False Positives)]`\n",
        "\n",
        "** Recall(sensitivity)** tells us what proportion of messages that actually were spam were classified by us as spam.\n",
        "It is a ratio of true positives(words classified as spam, and which are actually spam) to all the words that were actually spam, in other words it is the ratio of\n",
        "\n",
        "`[True Positives/(True Positives + False Negatives)]`\n",
        "\n",
        "For classification problems that are skewed in their classification distributions like in our case, for example if we had a 100 text messages and only 2 were spam and the rest 98 weren't, accuracy by itself is not a very good metric. We could classify 90 messages as not spam(including the 2 that were spam but we classify them as not spam, hence they would be false negatives) and 10 as spam(all 10 false positives) and still get a reasonably good accuracy score. For such cases, precision and recall come in very handy. These two metrics can be combined to get the F1 score, which is weighted average(harmonic mean) of the precision and recall scores. This score can range from 0 to 1, with 1 being the best possible F1 score(we take the harmonic mean as we are dealing with ratios)."
      ]
    },
    {
      "cell_type": "markdown",
      "metadata": {
        "id": "ZCFCeRrZ4g8D"
      },
      "source": [
        "### Question 1 - Naive Predictor Performace\n",
        "* If we chose a model that always predicted an individual made more than $50,000, what would  that model's accuracy and F-score be on this dataset? You must use the code cell below and assign your results to `'accuracy'` and `'fscore'` to be used later.\n",
        "\n",
        "** Please note ** that the the purpose of generating a naive predictor is simply to show what a base model without any intelligence would look like. In the real world, ideally your base model would be either the results of a previous model or could be based on a research paper upon which you are looking to improve. When there is no benchmark model set, getting a result better than random choice is a place you could start from.\n",
        "\n",
        "** HINT: **\n",
        "\n",
        "* When we have a model that always predicts '1' (i.e. the individual makes more than 50k) then our model will have no True Negatives(TN) or False Negatives(FN) as we are not making any negative('0' value) predictions. Therefore our Accuracy in this case becomes the same as our Precision(True Positives/(True Positives + False Positives)) as every prediction that we have made with value '1' that should have '0' becomes a False Positive; therefore our denominator in this case is the total number of records we have in total.\n",
        "* Our Recall score(True Positives/(True Positives + False Negatives)) in this setting becomes 1 as we have no False Negatives.\n",
        "\n",
        "Implement and evaluate naive predictor on the above mentioned metrics in the code cell below."
      ]
    },
    {
      "cell_type": "code",
      "execution_count": 38,
      "metadata": {
        "id": "MN2g3KIRr5wd"
      },
      "outputs": [],
      "source": [
        "from sklearn.metrics import accuracy_score, precision_score, recall_score, f1_score"
      ]
    },
    {
      "cell_type": "code",
      "execution_count": 39,
      "metadata": {
        "colab": {
          "base_uri": "https://localhost:8080/"
        },
        "id": "jEt0-lhk4g8E",
        "outputId": "468107b6-2fa9-48e7-cf0d-4fd09373d29c",
        "tags": []
      },
      "outputs": [
        {
          "name": "stdout",
          "output_type": "stream",
          "text": [
            "Naive Predictor: [Accuracy score: 0.2478, F-score: 0.2917]\n"
          ]
        }
      ],
      "source": [
        "def naive_predictor(income):\n",
        "    \"\"\"\n",
        "    Compute the Accuracy, Precision and Recall of a Naive Predictor based on a model that always predicts the individual to make more than $50,000.\n",
        "    \"\"\"\n",
        "\n",
        "    income_new=income.apply(lambda x:1)\n",
        "    income_new[0]\n",
        "\n",
        "    ### Follow the structure below\n",
        "\n",
        "    # # TODO: Calculate the False Negatives, True Positives and False Positives\n",
        "    FN= 0\n",
        "    TP= np.sum(income)\n",
        "    FP= income.count() - TP\n",
        "\n",
        "\n",
        "    # # TODO: Calculate accuracy, precision and recall\n",
        "    accuracy = TP / len(income)\n",
        "    recall = TP / (TP + FN)\n",
        "    precision = TP / (TP + FP)\n",
        "\n",
        "    # # # # TODO: Calculate F-score using the formula above for beta = 0.5 and correct values for precision and recall.\n",
        "    beta = 0.5\n",
        "    fscore = (1 + beta**2) * (precision * recall) / (beta**2 * precision + recall)\n",
        "\n",
        "    print(\"Naive Predictor: [Accuracy score: {:.4f}, F-score: {:.4f}]\".format(accuracy, fscore))\n",
        "\n",
        "    return fscore\n",
        "\n",
        "naive_predictor(income)\n",
        "accuracy = 0.2478\n",
        "fscore = 0.2917"
      ]
    },
    {
      "cell_type": "code",
      "execution_count": 40,
      "metadata": {
        "colab": {
          "base_uri": "https://localhost:8080/",
          "height": 64
        },
        "deletable": false,
        "editable": false,
        "id": "tnL6O9OKk5bw",
        "outputId": "dfe05648-7ebd-4550-a6b6-eeb53a30ba5f"
      },
      "outputs": [
        {
          "name": "stdout",
          "output_type": "stream",
          "text": [
            "Naive Predictor: [Accuracy score: 0.2478, F-score: 0.2917]\n"
          ]
        },
        {
          "data": {
            "text/html": [
              "<p><strong><pre style='display: inline;'>q6</pre></strong> passed! 🌟</p>"
            ],
            "text/plain": [
              "q6 results: All test cases passed!"
            ]
          },
          "execution_count": 40,
          "metadata": {},
          "output_type": "execute_result"
        }
      ],
      "source": [
        "grader.check(\"q6\")"
      ]
    },
    {
      "cell_type": "markdown",
      "metadata": {
        "id": "if7GUQGy4g8E"
      },
      "source": [
        "###  Supervised Learning Models\n",
        "**The following are the supervised learning models that you are required to experiment with in this assignment:**\n",
        "- Decision Trees\n",
        "- Ensemble Methods (Bagging, *AdaBoost*, Random Forest, Gradient Boosting)\n",
        "- Support Vector Machines (SVM)"
      ]
    },
    {
      "cell_type": "markdown",
      "metadata": {
        "id": "jzvnFjUh4g8E"
      },
      "source": [
        "### Question 2 - Model Application\n"
      ]
    },
    {
      "cell_type": "markdown",
      "metadata": {
        "id": "ADtNup4y4g8E"
      },
      "source": [
        "### Implementation - Creating a Training and Predicting Pipeline\n",
        "To properly evaluate the performance of each model you've chosen, it's important that you create a training and predicting pipeline that allows you to quickly and effectively train models using various sizes of training data and perform predictions on the testing data. Your implementation here will be used in the following section.\n",
        "In the code block below, you will need to implement the following:\n",
        " - Import `fbeta_score` and `accuracy_score` from [`sklearn.metrics`](http://scikit-learn.org/stable/modules/classes.html#sklearn-metrics-metrics).\n",
        " - Fit the learner to the sampled training data and record the training time.\n",
        " - Perform predictions on the test data `X_test`, and also on the first 300 training points `X_train[:300]`.\n",
        "   - Record the total prediction time.\n",
        " - Calculate the accuracy score for both the training subset and testing set.\n",
        " - Calculate the F-score for both the training subset and testing set.\n",
        "   - Make sure that you set the `beta` parameter!"
      ]
    },
    {
      "cell_type": "markdown",
      "metadata": {
        "deletable": false,
        "editable": false,
        "id": "J4lG4rLhk5b4"
      },
      "source": [
        "<!-- BEGIN QUESTION -->\n",
        "\n"
      ]
    },
    {
      "cell_type": "code",
      "execution_count": 41,
      "metadata": {
        "id": "eWShrFCk4g8E",
        "tags": []
      },
      "outputs": [],
      "source": [
        "# TODO: Import two metrics from sklearn - fbeta_score and accuracy_score\n",
        "from sklearn.metrics import fbeta_score, accuracy_score\n",
        "\n",
        "\n",
        "def train_predict(learner, sample_size, X_train, y_train, X_test, y_test):\n",
        "    '''\n",
        "    inputs:\n",
        "       - learner: the learning algorithm to be trained and predicted on\n",
        "       - sample_size: the size of samples (number) to be drawn from training set\n",
        "       - X_train: features training set\n",
        "       - y_train: income training set\n",
        "       - X_test: features testing set\n",
        "       - y_test: income testing set\n",
        "    '''\n",
        "    beta=0.5\n",
        "    results = {}\n",
        "\n",
        "    start = time() # Get start time\n",
        "    #learner.fit(X_train[:300], y_train[:300])\n",
        "    learner.fit(X_train[:sample_size], y_train[:sample_size])\n",
        "    end = time() # Get end time\n",
        "\n",
        "    results['train_time'] = end-start\n",
        "\n",
        "    start = time() # Get start time\n",
        "    predictions_test = learner.predict(X_test)\n",
        "    predictions_train = learner.predict(X_train[:300])\n",
        "    end = time() # Get end time\n",
        "\n",
        "    # TODO: Calculate the total prediction time\n",
        "    results['pred_time'] = end-start\n",
        "\n",
        "    # TODO: Compute accuracy on the first 300 training samples which is y_train[:300]\n",
        "    results['acc_train'] = accuracy_score(y_train[:300], predictions_train)\n",
        "\n",
        "    # TODO: Compute accuracy on test set using accuracy_score()\n",
        "    results['acc_test'] = accuracy_score(y_test, predictions_test)\n",
        "\n",
        "    # TODO: Compute F-score on the the first 300 training samples using fbeta_score()\n",
        "    results['f_train'] = fbeta_score(y_train[:300], predictions_train, beta=0.5)\n",
        "\n",
        "    # TODO: Compute F-score on the test set which is y_test\n",
        "    results['f_test'] = fbeta_score(y_test, predictions_test, beta=0.5)\n",
        "\n",
        "    # Success\n",
        "    print(\"{} trained on {} samples.\".format(learner.__class__.__name__, sample_size))\n",
        "\n",
        "    # Return the results\n",
        "    return results"
      ]
    },
    {
      "cell_type": "markdown",
      "metadata": {
        "deletable": false,
        "editable": false,
        "id": "Op7L_rjm4g8E"
      },
      "source": [
        "<!-- END QUESTION -->\n",
        "\n",
        "### Implementation: Initial Model Evaluation\n",
        "In the code cell, you will need to implement the following:\n",
        "- Import the three supervised learning models you've discussed in the previous section.\n",
        "- Initialize the three models and store them in `'clf_A'`, `'clf_B'`, and `'clf_C'`.\n",
        "  - Use a `'random_state'` for each model you use, if provided.\n",
        "  - **Note:** Use the default settings for each model — you will tune one specific model in a later section.\n",
        "- Calculate the number of records equal to 1%, 10%, and 100% of the training data.\n",
        "  - Store those values in `'samples_1'`, `'samples_10'`, and `'samples_100'` respectively.\n",
        "\n",
        "**Note:** Depending on which algorithms you chose, the following implementation may take some time to run!"
      ]
    },
    {
      "cell_type": "markdown",
      "metadata": {
        "deletable": false,
        "editable": false,
        "id": "y0tFzMnyk5b4"
      },
      "source": [
        "<!-- BEGIN QUESTION -->\n",
        "\n"
      ]
    },
    {
      "cell_type": "code",
      "execution_count": 42,
      "metadata": {
        "colab": {
          "base_uri": "https://localhost:8080/",
          "height": 1000
        },
        "id": "EMunw5dm4g8E",
        "outputId": "12a46e7b-9d3a-43b1-bc55-253ddb882212",
        "tags": []
      },
      "outputs": [
        {
          "name": "stdout",
          "output_type": "stream",
          "text": [
            "DecisionTreeClassifier trained on 361 samples.\n",
            "DecisionTreeClassifier trained on 3617 samples.\n",
            "DecisionTreeClassifier trained on 36177 samples.\n",
            "SVC trained on 361 samples.\n",
            "SVC trained on 3617 samples.\n",
            "SVC trained on 36177 samples.\n",
            "AdaBoostClassifier trained on 361 samples.\n",
            "AdaBoostClassifier trained on 3617 samples.\n",
            "AdaBoostClassifier trained on 36177 samples.\n"
          ]
        },
        {
          "name": "stderr",
          "output_type": "stream",
          "text": [
            "c:\\Users\\lomin\\OneDrive\\Desktop\\ML_assignments\\A3\\public\\a3\\public\\a3\\visuals.py:119: UserWarning: Tight layout not applied. tight_layout cannot make axes width small enough to accommodate all axes decorations\n",
            "  pl.tight_layout()\n"
          ]
        },
        {
          "data": {
            "image/png": "[encoded data removed]",
            "text/plain": [
              "<Figure size 1100x700 with 6 Axes>"
            ]
          },
          "metadata": {},
          "output_type": "display_data"
        }
      ],
      "source": [
        "# TODO: Import the three supervised learning models from sklearn\n",
        "from sklearn.tree import DecisionTreeClassifier\n",
        "from sklearn.svm import SVC\n",
        "from sklearn.ensemble import AdaBoostClassifier\n",
        "\n",
        "# TODO: Initialize the three models\n",
        "clf_A = DecisionTreeClassifier(random_state=0)\n",
        "clf_B = SVC(random_state=0)\n",
        "clf_C = AdaBoostClassifier(random_state=0)\n",
        "\n",
        "# TODO: Calculate the number of samples for 1%, 10%, and 100% of the training data\n",
        "# HINT: samples_100 is the entire training set i.e. len(y_train)\n",
        "# HINT: samples_10 is 10% of samples_100 (ensure to set the count of the values to be `int` and not `float`)\n",
        "# HINT: samples_1 is 1% of samples_100 (ensure to set the count of the values to be `int` and not `float`)\n",
        "samples_100 = len(y_train)\n",
        "samples_10 = int(0.1 * len(y_train))\n",
        "samples_1 = int(0.01 * len(y_train))\n",
        "\n",
        "# Collect results on the learners\n",
        "results = {}\n",
        "for clf in [clf_A, clf_B, clf_C]:\n",
        "    clf_name = clf.__class__.__name__\n",
        "    results[clf_name] = {}\n",
        "    for i, samples in enumerate([samples_1, samples_10, samples_100]):\n",
        "        results[clf_name][i] = \\\n",
        "        train_predict(clf, samples, X_train, y_train, X_test, y_test)\n",
        "\n",
        "# Run metrics visualization for the three supervised learning models chosen\n",
        "vs.evaluate(results, accuracy, fscore)"
      ]
    },
    {
      "cell_type": "markdown",
      "metadata": {
        "deletable": false,
        "editable": false,
        "id": "41E9eQbt4g8E",
        "tags": []
      },
      "source": [
        "<!-- END QUESTION -->\n",
        "\n",
        "----\n",
        "## Improving Results\n",
        "In this final section, you will choose from the three supervised learning models the *best* model to use on the student data. You will then perform a grid search optimization for the model over the entire training set (`X_train` and `y_train`) by tuning at least one parameter to improve upon the untuned model's F-score."
      ]
    },
    {
      "cell_type": "markdown",
      "metadata": {
        "id": "WCFrAFUF4g8E"
      },
      "source": [
        "### Question 3 - Choosing the Best Model"
      ]
    },
    {
      "cell_type": "markdown",
      "metadata": {
        "id": "IHbtryCS4g8F"
      },
      "source": [
        "### Implementation: Model Tuning\n",
        "Fine tune the chosen model. Use grid search (`GridSearchCV`) with at least one important parameter tuned with at least 3 different values. You will need to use the entire training set for this. In the code cell below, you will need to implement the following:\n",
        "- Import [`sklearn.model_selection.GridSearchCV`](https://scikit-learn.org/stable/modules/generated/sklearn.model_selection.GridSearchCV.html) and [`sklearn.metrics.make_scorer`](http://scikit-learn.org/stable/modules/generated/sklearn.metrics.make_scorer.html).\n",
        "- Initialize the classifier you've chosen and store it in `clf`.\n",
        " - Set a `random_state` if one is available to the same state you set before.\n",
        "- Create a dictionary of parameters you wish to tune for the chosen model.\n",
        " - Example: `parameters = {'parameter' : [list of values]}`.\n",
        " - **Note:** Avoid tuning the `max_features` parameter of your learner if that parameter is available!\n",
        "- Use `make_scorer` to create an `fbeta_score` scoring object (with $\\beta = 0.5$).\n",
        "- Perform grid search on the classifier `clf` using the `'scorer'`, and store it in `grid_obj`.\n",
        "- Fit the grid search object to the training data (`X_train`, `y_train`), and store it in `grid_fit`.\n",
        "\n",
        "**Note:** Depending on the algorithm chosen and the parameter list, the following implementation may take some time to run!"
      ]
    },
    {
      "cell_type": "markdown",
      "metadata": {
        "deletable": false,
        "editable": false,
        "id": "5HfDW0umk5b4"
      },
      "source": [
        "<!-- BEGIN QUESTION -->\n",
        "\n"
      ]
    },
    {
      "cell_type": "code",
      "execution_count": 44,
      "metadata": {
        "colab": {
          "base_uri": "https://localhost:8080/"
        },
        "id": "-Oo7zcF24g8J",
        "outputId": "d703e2c0-01fe-43be-ae5e-3f7930a03016",
        "tags": []
      },
      "outputs": [
        {
          "name": "stdout",
          "output_type": "stream",
          "text": [
            "Unoptimized model\n",
            "------\n",
            "Accuracy score on testing data: 0.8576\n",
            "F-score on testing data: 0.7246\n",
            "\n",
            "Optimized Model\n",
            "------\n",
            "Final accuracy score on the testing data: 0.8690\n",
            "Final F-score on the testing data: 0.7489\n"
          ]
        }
      ],
      "source": [
        "# TODO: Import 'GridSearchCV', 'make_scorer', and any other necessary libraries\n",
        "from sklearn.model_selection import GridSearchCV\n",
        "from sklearn.metrics import make_scorer,fbeta_score\n",
        "from sklearn.ensemble import AdaBoostClassifier\n",
        "\n",
        "\n",
        "# TODO: Initialize the classifier\n",
        "clf = AdaBoostClassifier(random_state=0)\n",
        "\n",
        "# TODO: Create the parameters list you wish to tune, using a dictionary if needed.\n",
        "# HINT: parameters = {'parameter_1': [value1, value2], 'parameter_2': [value1, value2]}\n",
        "parameters = {  'n_estimators': [50, 100, 150],\n",
        "                'learning_rate': [0.1, 0.5, 0.7],\n",
        "                'estimator': [DecisionTreeClassifier(max_depth=2), DecisionTreeClassifier(max_depth=3), DecisionTreeClassifier(max_depth=None)]\n",
        "    }\n",
        "\n",
        "# TODO: Make an fbeta_score scoring object using make_scorer()\n",
        "scorer = make_scorer(fbeta_score, beta=0.5)\n",
        "\n",
        "# TODO: Perform grid search on the classifier using 'scorer' as the scoring method using GridSearchCV()\n",
        "grid_obj = GridSearchCV(estimator=clf, scoring=scorer, n_jobs=-1, param_grid=parameters)\n",
        "\n",
        "\n",
        "\n",
        "# TODO: Fit the grid search object to the training data and find the optimal parameters using fit()\n",
        "grid_fit = grid_obj.fit(X_train, y_train)\n",
        "clf.fit(X_train, y_train)\n",
        "\n",
        "# Get the estimator\n",
        "best_clf = grid_fit.best_estimator_\n",
        "\n",
        "# Make predictions using the unoptimized and best model\n",
        "predictions = clf.predict(X_test)\n",
        "best_predictions = best_clf.predict(X_test)\n",
        "\n",
        "# Report the before-and-afterscores\n",
        "print(\"Unoptimized model\\n------\")\n",
        "print(\"Accuracy score on testing data: {:.4f}\".format(accuracy_score(y_test, predictions)))\n",
        "print(\"F-score on testing data: {:.4f}\".format(fbeta_score(y_test, predictions, beta = 0.5)))\n",
        "print(\"\\nOptimized Model\\n------\")\n",
        "print(\"Final accuracy score on the testing data: {:.4f}\".format(accuracy_score(y_test, best_predictions)))\n",
        "print(\"Final F-score on the testing data: {:.4f}\".format(fbeta_score(y_test, best_predictions, beta = 0.5)))"
      ]
    },
    {
      "cell_type": "markdown",
      "metadata": {
        "deletable": false,
        "editable": false,
        "id": "BR6wzz984g8K"
      },
      "source": [
        "<!-- END QUESTION -->\n",
        "\n",
        "### Question 4 - Final Model Evaluation\n",
        "\n",
        "* What is your optimized model's accuracy and F-score on the testing data?\n",
        "* Are these scores better or worse than the unoptimized model?\n",
        "* How do the results from your optimized model compare to the naive predictor benchmarks you found earlier in **Question 1**?_  \n",
        "\n",
        "**Note:** Fill in the table below with your results, and then provide discussion in the **Answer** box."
      ]
    },
    {
      "cell_type": "markdown",
      "metadata": {
        "deletable": false,
        "editable": false,
        "id": "pLjTUuby4g8K"
      },
      "source": [
        "<!-- BEGIN QUESTION -->\n",
        "\n",
        "#### Results:\n",
        "\n",
        "|     Metric     | Unoptimized Model | Optimized Model |\n",
        "| :------------: | :---------------: | :-------------: |\n",
        "| Accuracy Score |    85.76 %       |      86.90 %     |\n",
        "| F-score        |      72.46 %       |      74.89 %     |\n"
      ]
    },
    {
      "cell_type": "markdown",
      "metadata": {
        "id": "o-bFIHJS4g8K"
      },
      "source": [
        "**Answer: **\n",
        "\n",
        "* My optimized model accuracy is 86.9% and the F-score is 74.89% on the testing data.  \n",
        "* These scores are better than the unoptimized model\n",
        "* Naive Predictor Accuracy: 24.78% vs. Optimized Model Accuracy: 86.90%  \n",
        "Naive Predictor F-score: 29.17% vs. Optimized Model F-score: 74.89%\n",
        "\n",
        "In summary, the optimized model demonstrates substantial improvement over both the unoptimized model and the naive predictor benchmarks"
      ]
    },
    {
      "cell_type": "markdown",
      "metadata": {
        "deletable": false,
        "editable": false,
        "id": "G4GazqI-k5b5"
      },
      "source": [
        "<!-- END QUESTION -->\n",
        "\n"
      ]
    }
  ],
  "metadata": {
    "colab": {
      "provenance": []
    },
    "kernelspec": {
      "display_name": "Python 3 (ipykernel)",
      "language": "python",
      "name": "python3"
    },
    "language_info": {
      "codemirror_mode": {
        "name": "ipython",
        "version": 3
      },
      "file_extension": ".py",
      "mimetype": "text/x-python",
      "name": "python",
      "nbconvert_exporter": "python",
      "pygments_lexer": "ipython3",
      "version": "3.11.6"
    }
  },
  "nbformat": 4,
  "nbformat_minor": 0
}
